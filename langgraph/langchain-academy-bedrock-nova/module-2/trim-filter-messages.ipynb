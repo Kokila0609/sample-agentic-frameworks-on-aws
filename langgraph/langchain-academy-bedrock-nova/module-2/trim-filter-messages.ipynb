{
 "cells": [
  {
   "cell_type": "markdown",
   "id": "fb0ebaf1",
   "metadata": {},
   "source": [
    "[![Open in Colab](https://colab.research.google.com/assets/colab-badge.svg)](https://colab.research.google.com/github/langchain-ai/langchain-academy/blob/main/module-2/trim-filter-messages.ipynb) [![Open in LangChain Academy](https://cdn.prod.website-files.com/65b8cd72835ceeacd4449a53/66e9eba12c7b7688aa3dbb5e_LCA-badge-green.svg)](https://academy.langchain.com/courses/take/intro-to-langgraph/lessons/58239435-lesson-4-trim-and-filter-messages)"
   ]
  },
  {
   "cell_type": "markdown",
   "id": "c52ea2f9-03ff-4647-b782-46867ebed04e",
   "metadata": {},
   "source": [
    "# Filtering and trimming messages\n",
    "\n",
    "## Review\n",
    "\n",
    "Now, we have a deeper understanding of a few things: \n",
    "\n",
    "* How to customize the graph state schema\n",
    "* How to define custom state reducers\n",
    "* How to use multiple graph state schemas\n",
    "\n",
    "## Goals\n",
    "\n",
    "Now, we can start using these concepts with models in LangGraph!\n",
    " \n",
    "In the next few sessions, we'll build towards a chatbot that has long-term memory.\n",
    "\n",
    "Because our chatbot will use messages, let's first talk a bit more about advanced ways to work with messages in graph state."
   ]
  },
  {
   "cell_type": "code",
   "execution_count": null,
   "id": "d5197aba-5d46-421b-ae3b-4e3034edcfda",
   "metadata": {},
   "outputs": [],
   "source": [
    "%%capture --no-stderr\n",
    "%pip install --quiet -U langchain_core langgraph langchain_openai"
   ]
  },
  {
   "cell_type": "code",
   "execution_count": null,
   "id": "50d22ff8",
   "metadata": {},
   "outputs": [],
   "source": [
    "%pip install transformers"
   ]
  },
  {
   "cell_type": "code",
   "execution_count": 1,
   "id": "daa62e5d",
   "metadata": {},
   "outputs": [
    {
     "data": {
      "text/plain": [
       "True"
      ]
     },
     "execution_count": 1,
     "metadata": {},
     "output_type": "execute_result"
    }
   ],
   "source": [
    "from dotenv import load_dotenv\n",
    "import os\n",
    "load_dotenv()"
   ]
  },
  {
   "cell_type": "code",
   "execution_count": 2,
   "id": "768dc606-d5f2-468d-96ea-910b264e0f8a",
   "metadata": {},
   "outputs": [],
   "source": [
    "import os, getpass\n",
    "\n",
    "def _set_env(var: str):\n",
    "    if not os.environ.get(var):\n",
    "        os.environ[var] = getpass.getpass(f\"{var}: \")\n",
    "\n"
   ]
  },
  {
   "cell_type": "markdown",
   "id": "8b64d8d3-e4ac-4961-bdc0-688825eb5864",
   "metadata": {},
   "source": [
    "We'll use [LangSmith](https://docs.smith.langchain.com/) for [tracing](https://docs.smith.langchain.com/concepts/tracing).\n",
    "\n",
    "We'll log to a project, `langchain-academy`. "
   ]
  },
  {
   "cell_type": "code",
   "execution_count": 3,
   "id": "dd020c79",
   "metadata": {},
   "outputs": [],
   "source": [
    "_set_env(\"LANGCHAIN_API_KEY\")\n",
    "os.environ[\"LANGCHAIN_TRACING_V2\"] = \"true\"\n",
    "os.environ[\"LANGCHAIN_PROJECT\"] = \"langchain-academy\""
   ]
  },
  {
   "cell_type": "markdown",
   "id": "72f3fc90-58b6-4f7f-897e-dddf6ae532c7",
   "metadata": {},
   "source": [
    "## Messages as state\n",
    "\n",
    "First, let's define some messages."
   ]
  },
  {
   "cell_type": "code",
   "execution_count": 4,
   "id": "cf11a463-e27a-4a05-b41d-64882e38edca",
   "metadata": {},
   "outputs": [
    {
     "name": "stdout",
     "output_type": "stream",
     "text": [
      "================================\u001b[1m Human Message \u001b[0m=================================\n",
      "Name: Lance\n",
      "\n",
      "Hi I am a researcher on ocean mammals\n",
      "==================================\u001b[1m Ai Message \u001b[0m==================================\n",
      "Name: Bot\n",
      "\n",
      "So you said you were researching ocean mammals?\n",
      "================================\u001b[1m Human Message \u001b[0m=================================\n",
      "Name: Lance\n",
      "\n",
      "Yes, I know about whales. But what others should I learn about?\n"
     ]
    }
   ],
   "source": [
    "from pprint import pprint\n",
    "from langchain_core.messages import AIMessage, HumanMessage\n",
    "messages = [HumanMessage(f\"Hi I am a researcher on ocean mammals\", name=\"Lance\")]\n",
    "messages.append(AIMessage(f\"So you said you were researching ocean mammals?\", name=\"Bot\"))\n",
    "messages.append(HumanMessage(f\"Yes, I know about whales. But what others should I learn about?\", name=\"Lance\"))\n",
    "\n",
    "for m in messages:\n",
    "    m.pretty_print()"
   ]
  },
  {
   "cell_type": "markdown",
   "id": "b814adcb-6bf9-4b75-be11-e59f933fbd0c",
   "metadata": {},
   "source": [
    "Recall we can pass them to a chat model."
   ]
  },
  {
   "cell_type": "code",
   "execution_count": 5,
   "id": "4712e288-e622-48a2-ad3f-a52f65f3ab08",
   "metadata": {},
   "outputs": [
    {
     "data": {
      "text/plain": [
       "AIMessage(content='There are many other fascinating ocean mammals to learn about besides whales. Here are some other ocean mammals you might find interesting:\\n\\n1. **Dolphins**:\\n   - Highly intelligent and social creatures.\\n   - Found in various species, such as bottlenose dolphins and orca (killer whales).\\n\\n2. **Porpoises**:\\n   - Smaller and less well-known than dolphins.\\n   - Often found in coastal waters.\\n\\n3. **Seals and Sea Lions**:\\n   - Seals (true seals) and sea lions (eared seals) have different physical characteristics and behaviors.\\n   - Seals have ear holes, while sea lions have external ear flaps.\\n\\n4. **Walruses**:\\n   - Known for their large tusks and blubbery bodies.\\n   - Typically found in the Arctic regions.\\n\\n5. **Manatees and Dugongs**:\\n   - Herbivorous marine mammals.\\n   - Often called \"sea cows\" due to their slow-moving, grazing habits.\\n\\n6. **Sea Otters**:\\n   - Known for their playful behavior and use of tools.\\n   - Spend most of their lives in water.\\n\\n7. **Polar Bears**:\\n   - Although primarily considered terrestrial, they spend a significant amount of time in the ocean hunting for seals.\\n\\nEach of these mammals has unique adaptations and behaviors that make them well-suited to their aquatic environments. Studying them can provide valuable insights into marine ecosystems and the challenges these animals face due to climate change, pollution, and human activities.', additional_kwargs={}, response_metadata={'ResponseMetadata': {'RequestId': '7cbd1ac2-c204-47d2-bb62-243f2b156704', 'HTTPStatusCode': 200, 'HTTPHeaders': {'date': 'Mon, 09 Jun 2025 14:49:11 GMT', 'content-type': 'application/json', 'content-length': '1597', 'connection': 'keep-alive', 'x-amzn-requestid': '7cbd1ac2-c204-47d2-bb62-243f2b156704'}, 'RetryAttempts': 0}, 'stopReason': 'end_turn', 'metrics': {'latencyMs': [3140]}, 'model_name': 'us.amazon.nova-pro-v1:0'}, id='run--92756678-40aa-44d6-aa2e-6a789ba58d92-0', usage_metadata={'input_tokens': 37, 'output_tokens': 306, 'total_tokens': 343})"
      ]
     },
     "execution_count": 5,
     "metadata": {},
     "output_type": "execute_result"
    }
   ],
   "source": [
    "from langchain_aws import ChatBedrock, ChatBedrockConverse   \n",
    "llm = ChatBedrockConverse(model_id=\"us.amazon.nova-pro-v1:0\", temperature=0,disable_streaming='tool_calling')\n",
    "llm.invoke(messages)"
   ]
  },
  {
   "cell_type": "markdown",
   "id": "fbd1dab8-0af8-4621-8264-ce65065f76ec",
   "metadata": {},
   "source": [
    "We can run our chat model in a simple graph with `MessagesState`."
   ]
  },
  {
   "cell_type": "code",
   "execution_count": 6,
   "id": "bbd8c39c-633b-4176-9cc6-8318e42bb5dd",
   "metadata": {},
   "outputs": [
    {
     "data": {
      "image/png": "[encoded data removed]",
      "text/plain": [
       "<IPython.core.display.Image object>"
      ]
     },
     "metadata": {},
     "output_type": "display_data"
    }
   ],
   "source": [
    "from IPython.display import Image, display\n",
    "from langgraph.graph import MessagesState\n",
    "from langgraph.graph import StateGraph, START, END\n",
    "\n",
    "# Node\n",
    "def chat_model_node(state: MessagesState):\n",
    "    return {\"messages\": llm.invoke(state[\"messages\"])}\n",
    "\n",
    "# Build graph\n",
    "builder = StateGraph(MessagesState)\n",
    "builder.add_node(\"chat_model\", chat_model_node)\n",
    "builder.add_edge(START, \"chat_model\")\n",
    "builder.add_edge(\"chat_model\", END)\n",
    "graph = builder.compile()\n",
    "\n",
    "# View\n",
    "display(Image(graph.get_graph().draw_mermaid_png()))"
   ]
  },
  {
   "cell_type": "code",
   "execution_count": 7,
   "id": "3a5a3e4a-ccfd-4d14-81f1-f0de6e11a1e4",
   "metadata": {},
   "outputs": [
    {
     "name": "stdout",
     "output_type": "stream",
     "text": [
      "================================\u001b[1m Human Message \u001b[0m=================================\n",
      "Name: Lance\n",
      "\n",
      "Hi I am a researcher on ocean mammals\n",
      "==================================\u001b[1m Ai Message \u001b[0m==================================\n",
      "Name: Bot\n",
      "\n",
      "So you said you were researching ocean mammals?\n",
      "================================\u001b[1m Human Message \u001b[0m=================================\n",
      "Name: Lance\n",
      "\n",
      "Yes, I know about whales. But what others should I learn about?\n",
      "==================================\u001b[1m Ai Message \u001b[0m==================================\n",
      "\n",
      "There are a lot of mammals that live in the ocean. Some of them include:\n",
      "\n",
      "1. Dolphins\n",
      "2. Porpoises\n",
      "3. Seals\n",
      "4. Sea lions\n",
      "5. Walruses\n",
      "6. Manatees\n",
      "7. Dugongs\n",
      "8. Polar bears\n",
      "9. Sea otters\n",
      "\n",
      "These are just a few examples of the many ocean mammals that exist. Each of these animals has unique characteristics and adaptations that allow them to thrive in their aquatic environments. If you're interested in learning more about ocean mammals, I would recommend exploring each of these groups in more detail and learning about their behaviors, habitats, and conservation status.\n"
     ]
    }
   ],
   "source": [
    "output = graph.invoke({'messages': messages})\n",
    "for m in output['messages']:\n",
    "    m.pretty_print()"
   ]
  },
  {
   "cell_type": "markdown",
   "id": "34c33e63-1ef4-412d-bb10-6a1b9e5b35a7",
   "metadata": {},
   "source": [
    "## Reducer\n",
    "\n",
    "A practical challenge when working with messages is managing long-running conversations. \n",
    "\n",
    "Long-running conversations result in high token usage and latency if we are not careful, because we pass a growing list of messages to the model.\n",
    "\n",
    "We have a few ways to address this.\n",
    "\n",
    "First, recall the trick we saw using `RemoveMessage` and the `add_messages` reducer."
   ]
  },
  {
   "cell_type": "code",
   "execution_count": 8,
   "id": "222c6bc5-bb0e-4a43-80f5-c8ec38d99f3a",
   "metadata": {},
   "outputs": [
    {
     "data": {
      "image/png": "[encoded data removed]",
      "text/plain": [
       "<IPython.core.display.Image object>"
      ]
     },
     "metadata": {},
     "output_type": "display_data"
    }
   ],
   "source": [
    "from langchain_core.messages import RemoveMessage\n",
    "\n",
    "# Nodes\n",
    "def filter_messages(state: MessagesState):\n",
    "    # Delete all but the 2 most recent messages\n",
    "    delete_messages = [RemoveMessage(id=m.id) for m in state[\"messages\"][:-3]]\n",
    "    return {\"messages\": delete_messages}\n",
    "\n",
    "def chat_model_node(state: MessagesState):    \n",
    "    return {\"messages\": [llm.invoke(state[\"messages\"])]}\n",
    "\n",
    "# Build graph\n",
    "builder = StateGraph(MessagesState)\n",
    "builder.add_node(\"filter\", filter_messages)\n",
    "builder.add_node(\"chat_model\", chat_model_node)\n",
    "builder.add_edge(START, \"filter\")\n",
    "builder.add_edge(\"filter\", \"chat_model\")\n",
    "builder.add_edge(\"chat_model\", END)\n",
    "graph = builder.compile()\n",
    "\n",
    "# View\n",
    "display(Image(graph.get_graph().draw_mermaid_png()))"
   ]
  },
  {
   "cell_type": "code",
   "execution_count": 9,
   "id": "95a7c2cc-54ce-43e7-9a90-abf37827d709",
   "metadata": {},
   "outputs": [
    {
     "name": "stdout",
     "output_type": "stream",
     "text": [
      "================================\u001b[1m Human Message \u001b[0m=================================\n",
      "Name: Lance\n",
      "\n",
      "Hi.\n",
      "==================================\u001b[1m Ai Message \u001b[0m==================================\n",
      "Name: Bot\n",
      "\n",
      "So you said you were researching ocean mammals?\n",
      "================================\u001b[1m Human Message \u001b[0m=================================\n",
      "Name: Lance\n",
      "\n",
      "Yes, I know about whales. But what others should I learn about?\n",
      "==================================\u001b[1m Ai Message \u001b[0m==================================\n",
      "\n",
      "Well, there are many other ocean mammals. Such as Dolphins, Walruses, Manatees, Seals and Sea Otters.\n"
     ]
    }
   ],
   "source": [
    "# Message list with a preamble\n",
    "messages = [HumanMessage(f\"Hi I am a researcher on ocean mammals\", name=\"Lance\")]\n",
    "messages.append(AIMessage(\"Hi.\", name=\"Bot\", id=\"1\"))\n",
    "messages.append(HumanMessage(\"Hi.\", name=\"Lance\", id=\"2\"))\n",
    "messages.append(AIMessage(\"So you said you were researching ocean mammals?\", name=\"Bot\", id=\"3\"))\n",
    "messages.append(HumanMessage(\"Yes, I know about whales. But what others should I learn about?\", name=\"Lance\", id=\"4\"))\n",
    "\n",
    "# Invoke\n",
    "output = graph.invoke({'messages': messages})\n",
    "for m in output['messages']:\n",
    "    m.pretty_print()"
   ]
  },
  {
   "cell_type": "markdown",
   "id": "f506457d-014b-4fee-a684-e5edfb4b8f0d",
   "metadata": {},
   "source": [
    "## Filtering messages\n",
    "\n",
    "If you don't need or want to modify the graph state, you can just filter the messages you pass to the chat model.\n",
    "\n",
    "For example, just pass in a filtered list: `llm.invoke(messages[-1:])` to the model."
   ]
  },
  {
   "cell_type": "code",
   "execution_count": 10,
   "id": "22d0b904-7cd6-486b-8948-105bee3d4683",
   "metadata": {},
   "outputs": [
    {
     "data": {
      "image/png": "[encoded data removed]",
      "text/plain": [
       "<IPython.core.display.Image object>"
      ]
     },
     "metadata": {},
     "output_type": "display_data"
    }
   ],
   "source": [
    "# Node\n",
    "def chat_model_node(state: MessagesState):\n",
    "    return {\"messages\": [llm.invoke(state[\"messages\"][-1:])]}\n",
    "\n",
    "# Build graph\n",
    "builder = StateGraph(MessagesState)\n",
    "builder.add_node(\"chat_model\", chat_model_node)\n",
    "builder.add_edge(START, \"chat_model\")\n",
    "builder.add_edge(\"chat_model\", END)\n",
    "graph = builder.compile()\n",
    "\n",
    "# View\n",
    "display(Image(graph.get_graph().draw_mermaid_png()))"
   ]
  },
  {
   "cell_type": "markdown",
   "id": "6f58c6fc-532f-418d-b70a-cfcb3307daf5",
   "metadata": {},
   "source": [
    "Let's take our existing list of messages, append the above LLM response, and append a follow-up question."
   ]
  },
  {
   "cell_type": "code",
   "execution_count": 11,
   "id": "16956015-1dbe-4108-89b5-4209b68b51ca",
   "metadata": {},
   "outputs": [],
   "source": [
    "messages.append(output['messages'][-1])\n",
    "messages.append(HumanMessage(f\"Tell me more about Narwhals!\", name=\"Lance\"))"
   ]
  },
  {
   "cell_type": "code",
   "execution_count": 12,
   "id": "85563415-c085-46a8-a4ac-155df798c54e",
   "metadata": {},
   "outputs": [
    {
     "name": "stdout",
     "output_type": "stream",
     "text": [
      "================================\u001b[1m Human Message \u001b[0m=================================\n",
      "Name: Lance\n",
      "\n",
      "Hi I am a researcher on ocean mammals\n",
      "==================================\u001b[1m Ai Message \u001b[0m==================================\n",
      "Name: Bot\n",
      "\n",
      "Hi.\n",
      "================================\u001b[1m Human Message \u001b[0m=================================\n",
      "Name: Lance\n",
      "\n",
      "Hi.\n",
      "==================================\u001b[1m Ai Message \u001b[0m==================================\n",
      "Name: Bot\n",
      "\n",
      "So you said you were researching ocean mammals?\n",
      "================================\u001b[1m Human Message \u001b[0m=================================\n",
      "Name: Lance\n",
      "\n",
      "Yes, I know about whales. But what others should I learn about?\n",
      "==================================\u001b[1m Ai Message \u001b[0m==================================\n",
      "\n",
      "Well, there are many other ocean mammals. Such as Dolphins, Walruses, Manatees, Seals and Sea Otters.\n",
      "================================\u001b[1m Human Message \u001b[0m=================================\n",
      "Name: Lance\n",
      "\n",
      "Tell me more about Narwhals!\n"
     ]
    }
   ],
   "source": [
    "for m in messages:\n",
    "    m.pretty_print()"
   ]
  },
  {
   "cell_type": "code",
   "execution_count": 13,
   "id": "23349705-a059-47b5-9760-d8f64e687393",
   "metadata": {},
   "outputs": [
    {
     "name": "stdout",
     "output_type": "stream",
     "text": [
      "================================\u001b[1m Human Message \u001b[0m=================================\n",
      "Name: Lance\n",
      "\n",
      "Hi I am a researcher on ocean mammals\n",
      "==================================\u001b[1m Ai Message \u001b[0m==================================\n",
      "Name: Bot\n",
      "\n",
      "Hi.\n",
      "================================\u001b[1m Human Message \u001b[0m=================================\n",
      "Name: Lance\n",
      "\n",
      "Hi.\n",
      "==================================\u001b[1m Ai Message \u001b[0m==================================\n",
      "Name: Bot\n",
      "\n",
      "So you said you were researching ocean mammals?\n",
      "================================\u001b[1m Human Message \u001b[0m=================================\n",
      "Name: Lance\n",
      "\n",
      "Yes, I know about whales. But what others should I learn about?\n",
      "==================================\u001b[1m Ai Message \u001b[0m==================================\n",
      "\n",
      "Well, there are many other ocean mammals. Such as Dolphins, Walruses, Manatees, Seals and Sea Otters.\n",
      "================================\u001b[1m Human Message \u001b[0m=================================\n",
      "Name: Lance\n",
      "\n",
      "Tell me more about Narwhals!\n",
      "==================================\u001b[1m Ai Message \u001b[0m==================================\n",
      "\n",
      "Certainly! Narwhals (Monodon monoceros) are fascinating marine mammals known for their distinctive long tusks and elusive nature. Here are some key facts about narwhals:\n",
      "\n",
      "### Physical Characteristics:\n",
      "1. **Tusk**:\n",
      "   - Male narwhals are famous for their long, spiral tusk, which is actually an elongated incisor tooth that can grow up to 10 feet (3 meters) long.\n",
      "   - The tusk is hollow and can weigh up to 22 pounds (10 kilograms).\n",
      "   - Females may also have a smaller tusk, but it is usually much shorter or absent.\n",
      "\n",
      "2. **Size**:\n",
      "   - Narwhals typically grow to about 13-16 feet (4-5 meters) in length.\n",
      "   - They weigh between 1,760 to 3,530 pounds (800 to 1,600 kilograms).\n",
      "\n",
      "3. **Coloration**:\n",
      "   - Their skin is mottled with patches of light and dark coloration, which helps them blend into their Arctic environment.\n",
      "   - They have a white underside and a darker back.\n",
      "\n",
      "4. **Dorsal Fin**:\n",
      "   - Narwhals lack a dorsal fin, which is thought to help them navigate under ice more easily.\n",
      "\n",
      "### Habitat:\n",
      "- Narwhals inhabit the cold Arctic waters of Canada, Greenland, Norway, and Russia.\n",
      "- They prefer deep, cold waters and are often found in fjords and along the edges of ice floes.\n",
      "\n",
      "### Behavior:\n",
      "1. **Diving**:\n",
      "   - Narwhals are excellent divers, capable of plunging to depths of over 1,600 feet (500 meters) in search of food.\n",
      "   - They can hold their breath for up to 25 minutes.\n",
      "\n",
      "2. **Diet**:\n",
      "   - Their diet consists mainly of Greenland halibut, Arctic cod, cuttlefish, and shrimp.\n",
      "   - They use echolocation to find prey in the dark, icy waters.\n",
      "\n",
      "3. **Social Structure**:\n",
      "   - Narwhals are highly social animals and often travel in small groups called pods.\n",
      "   - Pods can range from a few individuals to several dozen.\n",
      "\n",
      "### Reproduction:\n",
      "- Mating season occurs in the spring, and calves are born after a gestation period of about 14 to 15 months.\n",
      "- Calves are born tail-first and are about 5 feet (1.5 meters) long at birth.\n",
      "- They are weaned after about 20 months but may stay with their mothers for up to two years.\n",
      "\n",
      "### Conservation Status:\n",
      "- Narwhals are currently listed as \"Near Threatened\" by the International Union for Conservation of Nature (IUCN).\n",
      "- Threats include climate change, which affects their Arctic habitat, and hunting, although regulated, still poses a risk.\n",
      "\n",
      "### Cultural Significance:\n",
      "- Narwhals have been an important part of Inuit culture for centuries.\n",
      "- Their tusks have been historically traded as \"unicorn horns,\" valued in medieval Europe for their supposed magical properties.\n",
      "\n",
      "Narwhals remain one of the most enigmatic creatures of the Arctic, captivating scientists and the public alike with their unique features and behaviors.\n"
     ]
    }
   ],
   "source": [
    "# Invoke, using message filtering\n",
    "output = graph.invoke({'messages': messages})\n",
    "for m in output['messages']:\n",
    "    m.pretty_print()"
   ]
  },
  {
   "cell_type": "markdown",
   "id": "42e1d8d2-e297-4d78-b54c-d12b3c866745",
   "metadata": {},
   "source": [
    "The state has all of the mesages.\n",
    "\n",
    "But, let's look at the LangSmith trace to see that the model invocation only uses the last message:\n",
    "\n",
    "https://smith.langchain.com/public/75aca3ce-ef19-4b92-94be-0178c7a660d9/r"
   ]
  },
  {
   "cell_type": "markdown",
   "id": "fc40d930-3c1f-47fe-8d2a-ce174873353c",
   "metadata": {},
   "source": [
    "## Trim messages\n",
    "\n",
    "Another approach is to [trim messages](https://python.langchain.com/v0.2/docs/how_to/trim_messages/#getting-the-last-max_tokens-tokens), based upon a set number of tokens. \n",
    "\n",
    "This restricts the message history to a specified number of tokens.\n",
    "\n",
    "While filtering only returns a post-hoc subset of the messages between agents, trimming restricts the number of tokens that a chat model can use to respond.\n",
    "\n",
    "See the `trim_messages` below."
   ]
  },
  {
   "cell_type": "code",
   "execution_count": 14,
   "id": "2ff99b81-cf03-4cc2-b44f-44829a73e1fd",
   "metadata": {},
   "outputs": [
    {
     "data": {
      "image/png": "[encoded data removed]",
      "text/plain": [
       "<IPython.core.display.Image object>"
      ]
     },
     "metadata": {},
     "output_type": "display_data"
    }
   ],
   "source": [
    "from langchain_core.messages import trim_messages\n",
    "\n",
    "# Node\n",
    "def chat_model_node(state: MessagesState):\n",
    "    messages = trim_messages(\n",
    "            state[\"messages\"],\n",
    "            max_tokens=100,\n",
    "            strategy=\"last\",\n",
    "            token_counter=ChatBedrock(model_id=\"us.amazon.nova-pro-v1:0\"),\n",
    "            allow_partial=False,\n",
    "        )\n",
    "    return {\"messages\": [llm.invoke(messages)]}\n",
    "\n",
    "# Build graph\n",
    "builder = StateGraph(MessagesState)\n",
    "builder.add_node(\"chat_model\", chat_model_node)\n",
    "builder.add_edge(START, \"chat_model\")\n",
    "builder.add_edge(\"chat_model\", END)\n",
    "graph = builder.compile()\n",
    "\n",
    "# View\n",
    "display(Image(graph.get_graph().draw_mermaid_png()))"
   ]
  },
  {
   "cell_type": "code",
   "execution_count": 15,
   "id": "24df63ac-da29-4874-b3df-7e390e97cc8a",
   "metadata": {},
   "outputs": [],
   "source": [
    "messages.append(output['messages'][-1])\n",
    "messages.append(HumanMessage(f\"Tell me where Orcas live!\", name=\"Lance\"))"
   ]
  },
  {
   "cell_type": "code",
   "execution_count": 16,
   "id": "b8b1f656",
   "metadata": {},
   "outputs": [
    {
     "data": {
      "text/plain": [
       "[HumanMessage(content='Hi I am a researcher on ocean mammals', additional_kwargs={}, response_metadata={}, name='Lance', id='f3cffc0a-d338-4aa8-a481-c13b7aa95c83'),\n",
       " AIMessage(content='Hi.', additional_kwargs={}, response_metadata={}, name='Bot', id='1'),\n",
       " HumanMessage(content='Hi.', additional_kwargs={}, response_metadata={}, name='Lance', id='2'),\n",
       " AIMessage(content='So you said you were researching ocean mammals?', additional_kwargs={}, response_metadata={}, name='Bot', id='3'),\n",
       " HumanMessage(content='Yes, I know about whales. But what others should I learn about?', additional_kwargs={}, response_metadata={}, name='Lance', id='4'),\n",
       " AIMessage(content='Well, there are many other ocean mammals. Such as Dolphins, Walruses, Manatees, Seals and Sea Otters.', additional_kwargs={}, response_metadata={'ResponseMetadata': {'RequestId': 'a2f18e4d-9ade-422c-9d5b-47615ada8a34', 'HTTPStatusCode': 200, 'HTTPHeaders': {'date': 'Mon, 09 Jun 2025 15:01:37 GMT', 'content-type': 'application/json', 'content-length': '282', 'connection': 'keep-alive', 'x-amzn-requestid': 'a2f18e4d-9ade-422c-9d5b-47615ada8a34'}, 'RetryAttempts': 0}, 'stopReason': 'end_turn', 'metrics': {'latencyMs': [567]}, 'model_name': 'us.amazon.nova-pro-v1:0'}, id='run--9c04e083-0974-48c5-83df-cf1067023259-0', usage_metadata={'input_tokens': 31, 'output_tokens': 26, 'total_tokens': 57}),\n",
       " HumanMessage(content='Tell me more about Narwhals!', additional_kwargs={}, response_metadata={}, name='Lance', id='afdf1d09-ff1b-4208-ad9c-52d6c5bb270c'),\n",
       " AIMessage(content='Certainly! Narwhals (Monodon monoceros) are fascinating marine mammals known for their distinctive long tusks and elusive nature. Here are some key facts about narwhals:\\n\\n### Physical Characteristics:\\n1. **Tusk**:\\n   - Male narwhals are famous for their long, spiral tusk, which is actually an elongated incisor tooth that can grow up to 10 feet (3 meters) long.\\n   - The tusk is hollow and can weigh up to 22 pounds (10 kilograms).\\n   - Females may also have a smaller tusk, but it is usually much shorter or absent.\\n\\n2. **Size**:\\n   - Narwhals typically grow to about 13-16 feet (4-5 meters) in length.\\n   - They weigh between 1,760 to 3,530 pounds (800 to 1,600 kilograms).\\n\\n3. **Coloration**:\\n   - Their skin is mottled with patches of light and dark coloration, which helps them blend into their Arctic environment.\\n   - They have a white underside and a darker back.\\n\\n4. **Dorsal Fin**:\\n   - Narwhals lack a dorsal fin, which is thought to help them navigate under ice more easily.\\n\\n### Habitat:\\n- Narwhals inhabit the cold Arctic waters of Canada, Greenland, Norway, and Russia.\\n- They prefer deep, cold waters and are often found in fjords and along the edges of ice floes.\\n\\n### Behavior:\\n1. **Diving**:\\n   - Narwhals are excellent divers, capable of plunging to depths of over 1,600 feet (500 meters) in search of food.\\n   - They can hold their breath for up to 25 minutes.\\n\\n2. **Diet**:\\n   - Their diet consists mainly of Greenland halibut, Arctic cod, cuttlefish, and shrimp.\\n   - They use echolocation to find prey in the dark, icy waters.\\n\\n3. **Social Structure**:\\n   - Narwhals are highly social animals and often travel in small groups called pods.\\n   - Pods can range from a few individuals to several dozen.\\n\\n### Reproduction:\\n- Mating season occurs in the spring, and calves are born after a gestation period of about 14 to 15 months.\\n- Calves are born tail-first and are about 5 feet (1.5 meters) long at birth.\\n- They are weaned after about 20 months but may stay with their mothers for up to two years.\\n\\n### Conservation Status:\\n- Narwhals are currently listed as \"Near Threatened\" by the International Union for Conservation of Nature (IUCN).\\n- Threats include climate change, which affects their Arctic habitat, and hunting, although regulated, still poses a risk.\\n\\n### Cultural Significance:\\n- Narwhals have been an important part of Inuit culture for centuries.\\n- Their tusks have been historically traded as \"unicorn horns,\" valued in medieval Europe for their supposed magical properties.\\n\\nNarwhals remain one of the most enigmatic creatures of the Arctic, captivating scientists and the public alike with their unique features and behaviors.', additional_kwargs={}, response_metadata={'ResponseMetadata': {'RequestId': '0aaa1fc5-1674-4627-80ff-23e7ed1fa085', 'HTTPStatusCode': 200, 'HTTPHeaders': {'date': 'Mon, 09 Jun 2025 15:03:44 GMT', 'content-type': 'application/json', 'content-length': '2905', 'connection': 'keep-alive', 'x-amzn-requestid': '0aaa1fc5-1674-4627-80ff-23e7ed1fa085'}, 'RetryAttempts': 0}, 'stopReason': 'end_turn', 'metrics': {'latencyMs': [5018]}, 'model_name': 'us.amazon.nova-pro-v1:0'}, id='run--ae7af80d-f660-47da-ab33-1c7a2994e340-0', usage_metadata={'input_tokens': 9, 'output_tokens': 660, 'total_tokens': 669}),\n",
       " HumanMessage(content='Tell me where Orcas live!', additional_kwargs={}, response_metadata={}, name='Lance')]"
      ]
     },
     "execution_count": 16,
     "metadata": {},
     "output_type": "execute_result"
    }
   ],
   "source": [
    "messages"
   ]
  },
  {
   "cell_type": "code",
   "execution_count": 17,
   "id": "6d9d8971-c75c-43ca-a209-eb1d07b2ead0",
   "metadata": {},
   "outputs": [
    {
     "name": "stderr",
     "output_type": "stream",
     "text": [
      "None of PyTorch, TensorFlow >= 2.0, or Flax have been found. Models won't be available and only tokenizers, configuration and file/data utilities can be used.\n"
     ]
    },
    {
     "data": {
      "text/plain": [
       "[AIMessage(content='\\nNarwhals remain one of the most enigmatic creatures of the Arctic, captivating scientists and the public alike with their unique features and behaviors.', additional_kwargs={}, response_metadata={'ResponseMetadata': {'RequestId': '0aaa1fc5-1674-4627-80ff-23e7ed1fa085', 'HTTPStatusCode': 200, 'HTTPHeaders': {'date': 'Mon, 09 Jun 2025 15:03:44 GMT', 'content-type': 'application/json', 'content-length': '2905', 'connection': 'keep-alive', 'x-amzn-requestid': '0aaa1fc5-1674-4627-80ff-23e7ed1fa085'}, 'RetryAttempts': 0}, 'stopReason': 'end_turn', 'metrics': {'latencyMs': [5018]}, 'model_name': 'us.amazon.nova-pro-v1:0'}, id='run--ae7af80d-f660-47da-ab33-1c7a2994e340-0', usage_metadata={'input_tokens': 9, 'output_tokens': 660, 'total_tokens': 669}),\n",
       " HumanMessage(content='Tell me where Orcas live!', additional_kwargs={}, response_metadata={}, name='Lance')]"
      ]
     },
     "execution_count": 17,
     "metadata": {},
     "output_type": "execute_result"
    }
   ],
   "source": [
    "# Example of trimming messages\n",
    "trim_messages(\n",
    "            messages,\n",
    "            max_tokens=50,\n",
    "            strategy=\"last\",\n",
    "            token_counter=ChatBedrock(model_id=\"us.amazon.nova-pro-v1:0\"),\n",
    "            allow_partial=True\n",
    "        )"
   ]
  },
  {
   "cell_type": "code",
   "execution_count": null,
   "id": "206e81d6",
   "metadata": {},
   "outputs": [],
   "source": []
  },
  {
   "cell_type": "code",
   "execution_count": 19,
   "id": "ed70a269-a869-4fa0-a1df-29736a432c51",
   "metadata": {},
   "outputs": [],
   "source": [
    "# Invoke, using message trimming in the chat_model_node \n",
    "messages_out_trim = graph.invoke({'messages': messages})"
   ]
  },
  {
   "cell_type": "markdown",
   "id": "38b3db67-380e-46b5-9a6a-20100ba52008",
   "metadata": {},
   "source": [
    "Let's look at the LangSmith trace to see the model invocation:\n",
    "\n",
    "https://smith.langchain.com/public/b153f7e9-f1a5-4d60-8074-f0d7ab5b42ef/r"
   ]
  },
  {
   "cell_type": "markdown",
   "id": "3239710e",
   "metadata": {},
   "source": []
  }
 ],
 "metadata": {
  "kernelspec": {
   "display_name": "Python (lc-academy-env)",
   "language": "python",
   "name": "lc-academy-env"
  },
  "language_info": {
   "codemirror_mode": {
    "name": "ipython",
    "version": 3
   },
   "file_extension": ".py",
   "mimetype": "text/x-python",
   "name": "python",
   "nbconvert_exporter": "python",
   "pygments_lexer": "ipython3",
   "version": "3.11.9"
  }
 },
 "nbformat": 4,
 "nbformat_minor": 5
}
