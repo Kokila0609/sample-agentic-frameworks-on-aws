{
 "cells": [
  {
   "cell_type": "markdown",
   "id": "9902a6a3",
   "metadata": {},
   "source": [
    "[![Open in Colab](https://colab.research.google.com/assets/colab-badge.svg)](https://colab.research.google.com/github/langchain-ai/langchain-academy/blob/main/module-3/time-travel.ipynb) [![Open in LangChain Academy](https://cdn.prod.website-files.com/65b8cd72835ceeacd4449a53/66e9eba12c7b7688aa3dbb5e_LCA-badge-green.svg)](https://academy.langchain.com/courses/take/intro-to-langgraph/lessons/58239536-lesson-5-time-travel)"
   ]
  },
  {
   "cell_type": "markdown",
   "id": "ba98beac-d461-4d7d-878a-11beca03ea1c",
   "metadata": {},
   "source": [
    "# Time travel\n",
    "\n",
    "## Review\n",
    "\n",
    "We discussed motivations for human-in-the-loop:\n",
    "\n",
    "(1) `Approval` - We can interrupt our agent, surface state to a user, and allow the user to accept an action\n",
    "\n",
    "(2) `Debugging` - We can rewind the graph to reproduce or avoid issues\n",
    "\n",
    "(3) `Editing` - You can modify the state \n",
    "\n",
    "We showed how breakpoints can stop the graph at specific nodes or allow the graph to dynamically interrupt itself.\n",
    "\n",
    "Then we showed how to proceed with human approval or directly edit the graph state with human feedback.\n",
    "\n",
    "## Goals\n",
    "\n",
    "Now, let's show how LangGraph [supports debugging](https://langchain-ai.github.io/langgraph/how-tos/human_in_the_loop/time-travel/) by viewing, re-playing, and even forking from past states. \n",
    "\n",
    "We call this `time travel`."
   ]
  },
  {
   "cell_type": "code",
   "execution_count": null,
   "id": "bd48aeb6-8478-4cb4-aef1-d524b80824d3",
   "metadata": {},
   "outputs": [],
   "source": [
    "%%capture --no-stderr\n",
    "%pip install --quiet -U langgraph langchain-aws langgraph_sdk langgraph-prebuilt"
   ]
  },
  {
   "cell_type": "code",
   "execution_count": 7,
   "id": "e79046b7",
   "metadata": {},
   "outputs": [
    {
     "data": {
      "text/plain": [
       "True"
      ]
     },
     "execution_count": 7,
     "metadata": {},
     "output_type": "execute_result"
    }
   ],
   "source": [
    "from dotenv import load_dotenv\n",
    "import os\n",
    "load_dotenv()"
   ]
  },
  {
   "cell_type": "code",
   "execution_count": 8,
   "id": "7d32093f",
   "metadata": {},
   "outputs": [],
   "source": [
    "import os, getpass\n",
    "\n",
    "def _set_env(var: str):\n",
    "    if not os.environ.get(var):\n",
    "        os.environ[var] = getpass.getpass(f\"{var}: \")"
   ]
  },
  {
   "cell_type": "markdown",
   "id": "0497d316-832a-4668-b133-fd317ee81220",
   "metadata": {},
   "source": [
    "Let's build our agent."
   ]
  },
  {
   "cell_type": "code",
   "execution_count": 9,
   "id": "d64ab3a1-b39c-4176-88c7-791a0b80c725",
   "metadata": {},
   "outputs": [],
   "source": [
    "from langchain_aws import ChatBedrock\n",
    "\n",
    "def multiply(a: int, b: int) -> int:\n",
    "    \"\"\"Multiply a and b.\n",
    "\n",
    "    Args:\n",
    "        a: first int\n",
    "        b: second int\n",
    "    \"\"\"\n",
    "    return a * b\n",
    "\n",
    "# This will be a tool\n",
    "def add(a: int, b: int) -> int:\n",
    "    \"\"\"Adds a and b.\n",
    "\n",
    "    Args:\n",
    "        a: first int\n",
    "        b: second int\n",
    "    \"\"\"\n",
    "    return a + b\n",
    "\n",
    "def divide(a: int, b: int) -> float:\n",
    "    \"\"\"Divide a by b.\n",
    "\n",
    "    Args:\n",
    "        a: first int\n",
    "        b: second int\n",
    "    \"\"\"\n",
    "    return a / b\n",
    "\n",
    "tools = [add, multiply, divide]\n",
    "llm = ChatBedrock(model=\"us.amazon.nova-pro-v1:0\")\n",
    "llm_with_tools = llm.bind_tools(tools)"
   ]
  },
  {
   "cell_type": "code",
   "execution_count": 10,
   "id": "1d8622a9-57cd-44dc-8696-46c5ab32d0b9",
   "metadata": {},
   "outputs": [
    {
     "data": {
      "image/png": "[encoded data removed]",
      "text/plain": [
       "<IPython.core.display.Image object>"
      ]
     },
     "metadata": {},
     "output_type": "display_data"
    }
   ],
   "source": [
    "from IPython.display import Image, display\n",
    "\n",
    "from langgraph.checkpoint.memory import MemorySaver\n",
    "from langgraph.graph import MessagesState\n",
    "from langgraph.graph import START, END, StateGraph\n",
    "from langgraph.prebuilt import tools_condition, ToolNode\n",
    "\n",
    "from langchain_core.messages import AIMessage, HumanMessage, SystemMessage\n",
    "\n",
    "# System message\n",
    "sys_msg = SystemMessage(content=\"You are a helpful assistant tasked with performing arithmetic on a set of inputs.\")\n",
    "\n",
    "# Node\n",
    "def assistant(state: MessagesState):\n",
    "   return {\"messages\": [llm_with_tools.invoke([sys_msg] + state[\"messages\"])]}\n",
    "\n",
    "# Graph\n",
    "builder = StateGraph(MessagesState)\n",
    "\n",
    "# Define nodes: these do the work\n",
    "builder.add_node(\"assistant\", assistant)\n",
    "builder.add_node(\"tools\", ToolNode(tools))\n",
    "\n",
    "# Define edges: these determine the control flow\n",
    "builder.add_edge(START, \"assistant\")\n",
    "builder.add_conditional_edges(\n",
    "    \"assistant\",\n",
    "    # If the latest message (result) from assistant is a tool call -> tools_condition routes to tools\n",
    "    # If the latest message (result) from assistant is a not a tool call -> tools_condition routes to END\n",
    "    tools_condition,\n",
    ")\n",
    "builder.add_edge(\"tools\", \"assistant\")\n",
    "\n",
    "memory = MemorySaver()\n",
    "graph = builder.compile(checkpointer=MemorySaver())\n",
    "\n",
    "# Show\n",
    "display(Image(graph.get_graph(xray=True).draw_mermaid_png()))"
   ]
  },
  {
   "cell_type": "markdown",
   "id": "fab18a04-1329-47ac-a25b-4e01bf756e2a",
   "metadata": {},
   "source": [
    "Let's run it, as before."
   ]
  },
  {
   "cell_type": "code",
   "execution_count": 11,
   "id": "05b2ab62-82bc-4356-8d5b-2d4f49069fdd",
   "metadata": {},
   "outputs": [
    {
     "name": "stdout",
     "output_type": "stream",
     "text": [
      "================================\u001b[1m Human Message \u001b[0m=================================\n",
      "\n",
      "Multiply 2 and 3\n",
      "==================================\u001b[1m Ai Message \u001b[0m==================================\n",
      "\n",
      "[{'type': 'text', 'text': '<thinking> To solve the user\\'s request, I need to multiply the numbers 2 and 3. The available tool for this operation is \"multiply\". I will use this tool with the parameters a=2 and b=3. </thinking>\\n'}, {'type': 'tool_use', 'name': 'multiply', 'input': {'a': 2, 'b': 3}, 'id': 'tooluse_Y85AJAweT_-atNFyzFsFfA'}]\n",
      "Tool Calls:\n",
      "  multiply (tooluse_Y85AJAweT_-atNFyzFsFfA)\n",
      " Call ID: tooluse_Y85AJAweT_-atNFyzFsFfA\n",
      "  Args:\n",
      "    a: 2\n",
      "    b: 3\n",
      "=================================\u001b[1m Tool Message \u001b[0m=================================\n",
      "Name: multiply\n",
      "\n",
      "6\n",
      "==================================\u001b[1m Ai Message \u001b[0m==================================\n",
      "\n",
      "The result of multiplying 2 and 3 is 6.\n"
     ]
    }
   ],
   "source": [
    "# Input\n",
    "initial_input = {\"messages\": HumanMessage(content=\"Multiply 2 and 3\")}\n",
    "\n",
    "# Thread\n",
    "thread = {\"configurable\": {\"thread_id\": \"1\"}}\n",
    "\n",
    "# Run the graph until the first interruption\n",
    "for event in graph.stream(initial_input, thread, stream_mode=\"values\"):\n",
    "    event['messages'][-1].pretty_print()"
   ]
  },
  {
   "cell_type": "markdown",
   "id": "268cfa43-22d1-4d63-8d81-a3ce00f1f2c8",
   "metadata": {},
   "source": [
    "## Browsing History\n",
    "\n",
    "We can use `get_state` to look at the **current** state of our graph, given the `thread_id`!"
   ]
  },
  {
   "cell_type": "code",
   "execution_count": 12,
   "id": "161eb053-18f6-4c99-8674-8cbd11cae57e",
   "metadata": {},
   "outputs": [
    {
     "data": {
      "text/plain": [
       "StateSnapshot(values={'messages': [HumanMessage(content='Multiply 2 and 3', additional_kwargs={}, response_metadata={}, id='85d1782d-0ee4-49a4-ae01-29f50f1788ac'), AIMessage(content=[{'type': 'text', 'text': '<thinking> To solve the user\\'s request, I need to multiply the numbers 2 and 3. The available tool for this operation is \"multiply\". I will use this tool with the parameters a=2 and b=3. </thinking>\\n'}, {'type': 'tool_use', 'name': 'multiply', 'input': {'a': 2, 'b': 3}, 'id': 'tooluse_Y85AJAweT_-atNFyzFsFfA'}], additional_kwargs={}, response_metadata={'ResponseMetadata': {'RequestId': '451a7c84-128e-4679-bb31-2ec3cf1b2fa5', 'HTTPStatusCode': 200, 'HTTPHeaders': {'date': 'Mon, 09 Jun 2025 20:46:01 GMT', 'content-type': 'application/json', 'content-length': '485', 'connection': 'keep-alive', 'x-amzn-requestid': '451a7c84-128e-4679-bb31-2ec3cf1b2fa5'}, 'RetryAttempts': 0}, 'stopReason': 'tool_use', 'metrics': {'latencyMs': [1381]}, 'model_name': 'us.amazon.nova-pro-v1:0'}, id='run--08597d30-67e1-4cf2-a98c-d1b29204b6df-0', tool_calls=[{'name': 'multiply', 'args': {'a': 2, 'b': 3}, 'id': 'tooluse_Y85AJAweT_-atNFyzFsFfA', 'type': 'tool_call'}], usage_metadata={'input_tokens': 556, 'output_tokens': 71, 'total_tokens': 627, 'input_token_details': {'cache_creation': 0, 'cache_read': 0}}), ToolMessage(content='6', name='multiply', id='bb05b076-162b-4a4e-b511-828bd0135efd', tool_call_id='tooluse_Y85AJAweT_-atNFyzFsFfA'), AIMessage(content='The result of multiplying 2 and 3 is 6.', additional_kwargs={}, response_metadata={'ResponseMetadata': {'RequestId': '079caa2c-7f08-4f08-899a-66703a907b84', 'HTTPStatusCode': 200, 'HTTPHeaders': {'date': 'Mon, 09 Jun 2025 20:46:02 GMT', 'content-type': 'application/json', 'content-length': '222', 'connection': 'keep-alive', 'x-amzn-requestid': '079caa2c-7f08-4f08-899a-66703a907b84'}, 'RetryAttempts': 0}, 'stopReason': 'end_turn', 'metrics': {'latencyMs': [670]}, 'model_name': 'us.amazon.nova-pro-v1:0'}, id='run--a00bdb01-2d32-410b-91f3-407ed4baaa99-0', usage_metadata={'input_tokens': 653, 'output_tokens': 13, 'total_tokens': 666, 'input_token_details': {'cache_creation': 0, 'cache_read': 0}})]}, next=(), config={'configurable': {'thread_id': '1', 'checkpoint_ns': '', 'checkpoint_id': '1f04572c-1ba4-6fc6-8003-db4b1ab07eff'}}, metadata={'source': 'loop', 'writes': {'assistant': {'messages': [AIMessage(content='The result of multiplying 2 and 3 is 6.', additional_kwargs={}, response_metadata={'ResponseMetadata': {'RequestId': '079caa2c-7f08-4f08-899a-66703a907b84', 'HTTPStatusCode': 200, 'HTTPHeaders': {'date': 'Mon, 09 Jun 2025 20:46:02 GMT', 'content-type': 'application/json', 'content-length': '222', 'connection': 'keep-alive', 'x-amzn-requestid': '079caa2c-7f08-4f08-899a-66703a907b84'}, 'RetryAttempts': 0}, 'stopReason': 'end_turn', 'metrics': {'latencyMs': [670]}, 'model_name': 'us.amazon.nova-pro-v1:0'}, id='run--a00bdb01-2d32-410b-91f3-407ed4baaa99-0', usage_metadata={'input_tokens': 653, 'output_tokens': 13, 'total_tokens': 666, 'input_token_details': {'cache_creation': 0, 'cache_read': 0}})]}}, 'step': 3, 'parents': {}, 'thread_id': '1'}, created_at='2025-06-09T20:46:02.728634+00:00', parent_config={'configurable': {'thread_id': '1', 'checkpoint_ns': '', 'checkpoint_id': '1f04572c-1418-6d20-8002-bec25cd7bf83'}}, tasks=(), interrupts=())"
      ]
     },
     "execution_count": 12,
     "metadata": {},
     "output_type": "execute_result"
    }
   ],
   "source": [
    "graph.get_state({'configurable': {'thread_id': '1'}})"
   ]
  },
  {
   "cell_type": "markdown",
   "id": "8d00869e-7b41-4d71-ad3c-cacf8f9c029f",
   "metadata": {},
   "source": [
    "We can also browse the state history of our agent.\n",
    "\n",
    "`get_state_history` lets us get the state at all prior steps.\n"
   ]
  },
  {
   "cell_type": "code",
   "execution_count": 13,
   "id": "3010169c-3bfa-498c-a30c-7ba53744e4d5",
   "metadata": {},
   "outputs": [],
   "source": [
    "all_states = [s for s in graph.get_state_history(thread)]"
   ]
  },
  {
   "cell_type": "code",
   "execution_count": 14,
   "id": "c4612ccf-59fc-4848-8845-0433fee2ca8e",
   "metadata": {},
   "outputs": [
    {
     "data": {
      "text/plain": [
       "5"
      ]
     },
     "execution_count": 14,
     "metadata": {},
     "output_type": "execute_result"
    }
   ],
   "source": [
    "len(all_states)"
   ]
  },
  {
   "cell_type": "code",
   "execution_count": 21,
   "id": "8f70cce6",
   "metadata": {},
   "outputs": [
    {
     "data": {
      "text/plain": [
       "[StateSnapshot(values={'messages': [HumanMessage(content='Multiply 2 and 3', additional_kwargs={}, response_metadata={}, id='85d1782d-0ee4-49a4-ae01-29f50f1788ac'), AIMessage(content=[{'type': 'text', 'text': '<thinking> To solve the user\\'s request, I need to multiply the numbers 2 and 3. The available tool for this operation is \"multiply\". I will use this tool with the parameters a=2 and b=3. </thinking>\\n'}, {'type': 'tool_use', 'name': 'multiply', 'input': {'a': 2, 'b': 3}, 'id': 'tooluse_Y85AJAweT_-atNFyzFsFfA'}], additional_kwargs={}, response_metadata={'ResponseMetadata': {'RequestId': '451a7c84-128e-4679-bb31-2ec3cf1b2fa5', 'HTTPStatusCode': 200, 'HTTPHeaders': {'date': 'Mon, 09 Jun 2025 20:46:01 GMT', 'content-type': 'application/json', 'content-length': '485', 'connection': 'keep-alive', 'x-amzn-requestid': '451a7c84-128e-4679-bb31-2ec3cf1b2fa5'}, 'RetryAttempts': 0}, 'stopReason': 'tool_use', 'metrics': {'latencyMs': [1381]}, 'model_name': 'us.amazon.nova-pro-v1:0'}, id='run--08597d30-67e1-4cf2-a98c-d1b29204b6df-0', tool_calls=[{'name': 'multiply', 'args': {'a': 2, 'b': 3}, 'id': 'tooluse_Y85AJAweT_-atNFyzFsFfA', 'type': 'tool_call'}], usage_metadata={'input_tokens': 556, 'output_tokens': 71, 'total_tokens': 627, 'input_token_details': {'cache_creation': 0, 'cache_read': 0}}), ToolMessage(content='6', name='multiply', id='bb05b076-162b-4a4e-b511-828bd0135efd', tool_call_id='tooluse_Y85AJAweT_-atNFyzFsFfA'), AIMessage(content='The result of multiplying 2 and 3 is 6.', additional_kwargs={}, response_metadata={'ResponseMetadata': {'RequestId': '079caa2c-7f08-4f08-899a-66703a907b84', 'HTTPStatusCode': 200, 'HTTPHeaders': {'date': 'Mon, 09 Jun 2025 20:46:02 GMT', 'content-type': 'application/json', 'content-length': '222', 'connection': 'keep-alive', 'x-amzn-requestid': '079caa2c-7f08-4f08-899a-66703a907b84'}, 'RetryAttempts': 0}, 'stopReason': 'end_turn', 'metrics': {'latencyMs': [670]}, 'model_name': 'us.amazon.nova-pro-v1:0'}, id='run--a00bdb01-2d32-410b-91f3-407ed4baaa99-0', usage_metadata={'input_tokens': 653, 'output_tokens': 13, 'total_tokens': 666, 'input_token_details': {'cache_creation': 0, 'cache_read': 0}})]}, next=(), config={'configurable': {'thread_id': '1', 'checkpoint_ns': '', 'checkpoint_id': '1f04572c-1ba4-6fc6-8003-db4b1ab07eff'}}, metadata={'source': 'loop', 'writes': {'assistant': {'messages': [AIMessage(content='The result of multiplying 2 and 3 is 6.', additional_kwargs={}, response_metadata={'ResponseMetadata': {'RequestId': '079caa2c-7f08-4f08-899a-66703a907b84', 'HTTPStatusCode': 200, 'HTTPHeaders': {'date': 'Mon, 09 Jun 2025 20:46:02 GMT', 'content-type': 'application/json', 'content-length': '222', 'connection': 'keep-alive', 'x-amzn-requestid': '079caa2c-7f08-4f08-899a-66703a907b84'}, 'RetryAttempts': 0}, 'stopReason': 'end_turn', 'metrics': {'latencyMs': [670]}, 'model_name': 'us.amazon.nova-pro-v1:0'}, id='run--a00bdb01-2d32-410b-91f3-407ed4baaa99-0', usage_metadata={'input_tokens': 653, 'output_tokens': 13, 'total_tokens': 666, 'input_token_details': {'cache_creation': 0, 'cache_read': 0}})]}}, 'step': 3, 'parents': {}, 'thread_id': '1'}, created_at='2025-06-09T20:46:02.728634+00:00', parent_config={'configurable': {'thread_id': '1', 'checkpoint_ns': '', 'checkpoint_id': '1f04572c-1418-6d20-8002-bec25cd7bf83'}}, tasks=(), interrupts=()),\n",
       " StateSnapshot(values={'messages': [HumanMessage(content='Multiply 2 and 3', additional_kwargs={}, response_metadata={}, id='85d1782d-0ee4-49a4-ae01-29f50f1788ac'), AIMessage(content=[{'type': 'text', 'text': '<thinking> To solve the user\\'s request, I need to multiply the numbers 2 and 3. The available tool for this operation is \"multiply\". I will use this tool with the parameters a=2 and b=3. </thinking>\\n'}, {'type': 'tool_use', 'name': 'multiply', 'input': {'a': 2, 'b': 3}, 'id': 'tooluse_Y85AJAweT_-atNFyzFsFfA'}], additional_kwargs={}, response_metadata={'ResponseMetadata': {'RequestId': '451a7c84-128e-4679-bb31-2ec3cf1b2fa5', 'HTTPStatusCode': 200, 'HTTPHeaders': {'date': 'Mon, 09 Jun 2025 20:46:01 GMT', 'content-type': 'application/json', 'content-length': '485', 'connection': 'keep-alive', 'x-amzn-requestid': '451a7c84-128e-4679-bb31-2ec3cf1b2fa5'}, 'RetryAttempts': 0}, 'stopReason': 'tool_use', 'metrics': {'latencyMs': [1381]}, 'model_name': 'us.amazon.nova-pro-v1:0'}, id='run--08597d30-67e1-4cf2-a98c-d1b29204b6df-0', tool_calls=[{'name': 'multiply', 'args': {'a': 2, 'b': 3}, 'id': 'tooluse_Y85AJAweT_-atNFyzFsFfA', 'type': 'tool_call'}], usage_metadata={'input_tokens': 556, 'output_tokens': 71, 'total_tokens': 627, 'input_token_details': {'cache_creation': 0, 'cache_read': 0}}), ToolMessage(content='6', name='multiply', id='bb05b076-162b-4a4e-b511-828bd0135efd', tool_call_id='tooluse_Y85AJAweT_-atNFyzFsFfA')]}, next=('assistant',), config={'configurable': {'thread_id': '1', 'checkpoint_ns': '', 'checkpoint_id': '1f04572c-1418-6d20-8002-bec25cd7bf83'}}, metadata={'source': 'loop', 'writes': {'tools': {'messages': [ToolMessage(content='6', name='multiply', id='bb05b076-162b-4a4e-b511-828bd0135efd', tool_call_id='tooluse_Y85AJAweT_-atNFyzFsFfA')]}}, 'step': 2, 'parents': {}, 'thread_id': '1'}, created_at='2025-06-09T20:46:01.937222+00:00', parent_config={'configurable': {'thread_id': '1', 'checkpoint_ns': '', 'checkpoint_id': '1f04572c-1412-6bbe-8001-c6348fb434b7'}}, tasks=(PregelTask(id='f513f312-a181-8f74-20d2-fc3a85c3dc8a', name='assistant', path=('__pregel_pull', 'assistant'), error=None, interrupts=(), state=None, result={'messages': [AIMessage(content='The result of multiplying 2 and 3 is 6.', additional_kwargs={}, response_metadata={'ResponseMetadata': {'RequestId': '079caa2c-7f08-4f08-899a-66703a907b84', 'HTTPStatusCode': 200, 'HTTPHeaders': {'date': 'Mon, 09 Jun 2025 20:46:02 GMT', 'content-type': 'application/json', 'content-length': '222', 'connection': 'keep-alive', 'x-amzn-requestid': '079caa2c-7f08-4f08-899a-66703a907b84'}, 'RetryAttempts': 0}, 'stopReason': 'end_turn', 'metrics': {'latencyMs': [670]}, 'model_name': 'us.amazon.nova-pro-v1:0'}, id='run--a00bdb01-2d32-410b-91f3-407ed4baaa99-0', usage_metadata={'input_tokens': 653, 'output_tokens': 13, 'total_tokens': 666, 'input_token_details': {'cache_creation': 0, 'cache_read': 0}})]}),), interrupts=()),\n",
       " StateSnapshot(values={'messages': [HumanMessage(content='Multiply 2 and 3', additional_kwargs={}, response_metadata={}, id='85d1782d-0ee4-49a4-ae01-29f50f1788ac'), AIMessage(content=[{'type': 'text', 'text': '<thinking> To solve the user\\'s request, I need to multiply the numbers 2 and 3. The available tool for this operation is \"multiply\". I will use this tool with the parameters a=2 and b=3. </thinking>\\n'}, {'type': 'tool_use', 'name': 'multiply', 'input': {'a': 2, 'b': 3}, 'id': 'tooluse_Y85AJAweT_-atNFyzFsFfA'}], additional_kwargs={}, response_metadata={'ResponseMetadata': {'RequestId': '451a7c84-128e-4679-bb31-2ec3cf1b2fa5', 'HTTPStatusCode': 200, 'HTTPHeaders': {'date': 'Mon, 09 Jun 2025 20:46:01 GMT', 'content-type': 'application/json', 'content-length': '485', 'connection': 'keep-alive', 'x-amzn-requestid': '451a7c84-128e-4679-bb31-2ec3cf1b2fa5'}, 'RetryAttempts': 0}, 'stopReason': 'tool_use', 'metrics': {'latencyMs': [1381]}, 'model_name': 'us.amazon.nova-pro-v1:0'}, id='run--08597d30-67e1-4cf2-a98c-d1b29204b6df-0', tool_calls=[{'name': 'multiply', 'args': {'a': 2, 'b': 3}, 'id': 'tooluse_Y85AJAweT_-atNFyzFsFfA', 'type': 'tool_call'}], usage_metadata={'input_tokens': 556, 'output_tokens': 71, 'total_tokens': 627, 'input_token_details': {'cache_creation': 0, 'cache_read': 0}})]}, next=('tools',), config={'configurable': {'thread_id': '1', 'checkpoint_ns': '', 'checkpoint_id': '1f04572c-1412-6bbe-8001-c6348fb434b7'}}, metadata={'source': 'loop', 'writes': {'assistant': {'messages': [AIMessage(content=[{'type': 'text', 'text': '<thinking> To solve the user\\'s request, I need to multiply the numbers 2 and 3. The available tool for this operation is \"multiply\". I will use this tool with the parameters a=2 and b=3. </thinking>\\n'}, {'type': 'tool_use', 'name': 'multiply', 'input': {'a': 2, 'b': 3}, 'id': 'tooluse_Y85AJAweT_-atNFyzFsFfA'}], additional_kwargs={}, response_metadata={'ResponseMetadata': {'RequestId': '451a7c84-128e-4679-bb31-2ec3cf1b2fa5', 'HTTPStatusCode': 200, 'HTTPHeaders': {'date': 'Mon, 09 Jun 2025 20:46:01 GMT', 'content-type': 'application/json', 'content-length': '485', 'connection': 'keep-alive', 'x-amzn-requestid': '451a7c84-128e-4679-bb31-2ec3cf1b2fa5'}, 'RetryAttempts': 0}, 'stopReason': 'tool_use', 'metrics': {'latencyMs': [1381]}, 'model_name': 'us.amazon.nova-pro-v1:0'}, id='run--08597d30-67e1-4cf2-a98c-d1b29204b6df-0', tool_calls=[{'name': 'multiply', 'args': {'a': 2, 'b': 3}, 'id': 'tooluse_Y85AJAweT_-atNFyzFsFfA', 'type': 'tool_call'}], usage_metadata={'input_tokens': 556, 'output_tokens': 71, 'total_tokens': 627, 'input_token_details': {'cache_creation': 0, 'cache_read': 0}})]}}, 'step': 1, 'parents': {}, 'thread_id': '1'}, created_at='2025-06-09T20:46:01.934729+00:00', parent_config={'configurable': {'thread_id': '1', 'checkpoint_ns': '', 'checkpoint_id': '1f04572c-036e-6b6e-8000-3897a1c5ee4f'}}, tasks=(PregelTask(id='0d67e81a-c92a-1153-1406-c1b372db516f', name='tools', path=('__pregel_pull', 'tools'), error=None, interrupts=(), state=None, result={'messages': [ToolMessage(content='6', name='multiply', id='bb05b076-162b-4a4e-b511-828bd0135efd', tool_call_id='tooluse_Y85AJAweT_-atNFyzFsFfA')]}),), interrupts=()),\n",
       " StateSnapshot(values={'messages': [HumanMessage(content='Multiply 2 and 3', additional_kwargs={}, response_metadata={}, id='85d1782d-0ee4-49a4-ae01-29f50f1788ac')]}, next=('assistant',), config={'configurable': {'thread_id': '1', 'checkpoint_ns': '', 'checkpoint_id': '1f04572c-036e-6b6e-8000-3897a1c5ee4f'}}, metadata={'source': 'loop', 'writes': None, 'step': 0, 'parents': {}, 'thread_id': '1'}, created_at='2025-06-09T20:46:00.189808+00:00', parent_config={'configurable': {'thread_id': '1', 'checkpoint_ns': '', 'checkpoint_id': '1f04572c-036a-6d02-bfff-2fcaafd3a6a4'}}, tasks=(PregelTask(id='65749511-d41c-7650-3d6c-53d09d0be5e4', name='assistant', path=('__pregel_pull', 'assistant'), error=None, interrupts=(), state=None, result={'messages': [AIMessage(content=[{'type': 'text', 'text': '<thinking> To solve the user\\'s request, I need to multiply the numbers 2 and 3. The available tool for this operation is \"multiply\". I will use this tool with the parameters a=2 and b=3. </thinking>\\n'}, {'type': 'tool_use', 'name': 'multiply', 'input': {'a': 2, 'b': 3}, 'id': 'tooluse_Y85AJAweT_-atNFyzFsFfA'}], additional_kwargs={}, response_metadata={'ResponseMetadata': {'RequestId': '451a7c84-128e-4679-bb31-2ec3cf1b2fa5', 'HTTPStatusCode': 200, 'HTTPHeaders': {'date': 'Mon, 09 Jun 2025 20:46:01 GMT', 'content-type': 'application/json', 'content-length': '485', 'connection': 'keep-alive', 'x-amzn-requestid': '451a7c84-128e-4679-bb31-2ec3cf1b2fa5'}, 'RetryAttempts': 0}, 'stopReason': 'tool_use', 'metrics': {'latencyMs': [1381]}, 'model_name': 'us.amazon.nova-pro-v1:0'}, id='run--08597d30-67e1-4cf2-a98c-d1b29204b6df-0', tool_calls=[{'name': 'multiply', 'args': {'a': 2, 'b': 3}, 'id': 'tooluse_Y85AJAweT_-atNFyzFsFfA', 'type': 'tool_call'}], usage_metadata={'input_tokens': 556, 'output_tokens': 71, 'total_tokens': 627, 'input_token_details': {'cache_creation': 0, 'cache_read': 0}})]}),), interrupts=()),\n",
       " StateSnapshot(values={'messages': []}, next=('__start__',), config={'configurable': {'thread_id': '1', 'checkpoint_ns': '', 'checkpoint_id': '1f04572c-036a-6d02-bfff-2fcaafd3a6a4'}}, metadata={'source': 'input', 'writes': {'__start__': {'messages': HumanMessage(content='Multiply 2 and 3', additional_kwargs={}, response_metadata={})}}, 'step': -1, 'parents': {}, 'thread_id': '1'}, created_at='2025-06-09T20:46:00.188226+00:00', parent_config=None, tasks=(PregelTask(id='865255eb-241c-194f-8e77-bffb1fb39eb9', name='__start__', path=('__pregel_pull', '__start__'), error=None, interrupts=(), state=None, result={'messages': HumanMessage(content='Multiply 2 and 3', additional_kwargs={}, response_metadata={}, id='85d1782d-0ee4-49a4-ae01-29f50f1788ac')}),), interrupts=())]"
      ]
     },
     "execution_count": 21,
     "metadata": {},
     "output_type": "execute_result"
    }
   ],
   "source": [
    "all_states"
   ]
  },
  {
   "cell_type": "markdown",
   "id": "af30f269-1152-4fa1-a7c6-2947acad9a27",
   "metadata": {},
   "source": [
    "The first element is the current state, just as we got from `get_state`."
   ]
  },
  {
   "cell_type": "code",
   "execution_count": 15,
   "id": "4e60b292-8efc-4cc3-b836-51f060fa608b",
   "metadata": {},
   "outputs": [
    {
     "data": {
      "text/plain": [
       "StateSnapshot(values={'messages': [HumanMessage(content='Multiply 2 and 3', additional_kwargs={}, response_metadata={}, id='85d1782d-0ee4-49a4-ae01-29f50f1788ac')]}, next=('assistant',), config={'configurable': {'thread_id': '1', 'checkpoint_ns': '', 'checkpoint_id': '1f04572c-036e-6b6e-8000-3897a1c5ee4f'}}, metadata={'source': 'loop', 'writes': None, 'step': 0, 'parents': {}, 'thread_id': '1'}, created_at='2025-06-09T20:46:00.189808+00:00', parent_config={'configurable': {'thread_id': '1', 'checkpoint_ns': '', 'checkpoint_id': '1f04572c-036a-6d02-bfff-2fcaafd3a6a4'}}, tasks=(PregelTask(id='65749511-d41c-7650-3d6c-53d09d0be5e4', name='assistant', path=('__pregel_pull', 'assistant'), error=None, interrupts=(), state=None, result={'messages': [AIMessage(content=[{'type': 'text', 'text': '<thinking> To solve the user\\'s request, I need to multiply the numbers 2 and 3. The available tool for this operation is \"multiply\". I will use this tool with the parameters a=2 and b=3. </thinking>\\n'}, {'type': 'tool_use', 'name': 'multiply', 'input': {'a': 2, 'b': 3}, 'id': 'tooluse_Y85AJAweT_-atNFyzFsFfA'}], additional_kwargs={}, response_metadata={'ResponseMetadata': {'RequestId': '451a7c84-128e-4679-bb31-2ec3cf1b2fa5', 'HTTPStatusCode': 200, 'HTTPHeaders': {'date': 'Mon, 09 Jun 2025 20:46:01 GMT', 'content-type': 'application/json', 'content-length': '485', 'connection': 'keep-alive', 'x-amzn-requestid': '451a7c84-128e-4679-bb31-2ec3cf1b2fa5'}, 'RetryAttempts': 0}, 'stopReason': 'tool_use', 'metrics': {'latencyMs': [1381]}, 'model_name': 'us.amazon.nova-pro-v1:0'}, id='run--08597d30-67e1-4cf2-a98c-d1b29204b6df-0', tool_calls=[{'name': 'multiply', 'args': {'a': 2, 'b': 3}, 'id': 'tooluse_Y85AJAweT_-atNFyzFsFfA', 'type': 'tool_call'}], usage_metadata={'input_tokens': 556, 'output_tokens': 71, 'total_tokens': 627, 'input_token_details': {'cache_creation': 0, 'cache_read': 0}})]}),), interrupts=())"
      ]
     },
     "execution_count": 15,
     "metadata": {},
     "output_type": "execute_result"
    }
   ],
   "source": [
    "all_states[-2]"
   ]
  },
  {
   "attachments": {},
   "cell_type": "markdown",
   "id": "4148a710-ceed-413b-b93c-070c6c792fa2",
   "metadata": {},
   "source": [
    "Everything above we can visualize here: \n",
    "\n",
    "![fig1.jpg](https://cdn.prod.website-files.com/65b8cd72835ceeacd4449a53/66dbb038211b544898570be3_time-travel1.png)"
   ]
  },
  {
   "attachments": {},
   "cell_type": "markdown",
   "id": "a5ad554a-faf3-489f-a9a9-774f4ec2a526",
   "metadata": {},
   "source": [
    "## Replaying \n",
    "\n",
    "We can re-run our agent from any of the prior steps.\n",
    "\n",
    "![fig2.jpg](https://cdn.prod.website-files.com/65b8cd72835ceeacd4449a53/66dbb038a0bd34b541c78fb8_time-travel2.png)"
   ]
  },
  {
   "cell_type": "markdown",
   "id": "e135d2db-d613-42da-877e-d429f21aaefd",
   "metadata": {},
   "source": [
    "Let's look back at the step that recieved human input!"
   ]
  },
  {
   "cell_type": "code",
   "execution_count": 40,
   "id": "3688e511-a440-4330-a450-e5ed889c3b30",
   "metadata": {},
   "outputs": [],
   "source": [
    "to_replay = all_states[-2]"
   ]
  },
  {
   "cell_type": "code",
   "execution_count": 41,
   "id": "72adf296-d519-4bdc-af03-3b29799e9534",
   "metadata": {},
   "outputs": [
    {
     "data": {
      "text/plain": [
       "StateSnapshot(values={'messages': [HumanMessage(content='Multiply 2 and 3', additional_kwargs={}, response_metadata={}, id='85d1782d-0ee4-49a4-ae01-29f50f1788ac')]}, next=('assistant',), config={'configurable': {'thread_id': '1', 'checkpoint_ns': '', 'checkpoint_id': '1f04572c-036e-6b6e-8000-3897a1c5ee4f'}}, metadata={'source': 'loop', 'writes': None, 'step': 0, 'parents': {}, 'thread_id': '1'}, created_at='2025-06-09T20:46:00.189808+00:00', parent_config={'configurable': {'thread_id': '1', 'checkpoint_ns': '', 'checkpoint_id': '1f04572c-036a-6d02-bfff-2fcaafd3a6a4'}}, tasks=(PregelTask(id='65749511-d41c-7650-3d6c-53d09d0be5e4', name='assistant', path=('__pregel_pull', 'assistant'), error=None, interrupts=(), state=None, result={'messages': [AIMessage(content=[{'type': 'text', 'text': '<thinking> To solve the user\\'s request, I need to multiply the numbers 2 and 3. The available tool for this operation is \"multiply\". I will use this tool with the parameters a=2 and b=3. </thinking>\\n'}, {'type': 'tool_use', 'name': 'multiply', 'input': {'a': 2, 'b': 3}, 'id': 'tooluse_Y85AJAweT_-atNFyzFsFfA'}], additional_kwargs={}, response_metadata={'ResponseMetadata': {'RequestId': '451a7c84-128e-4679-bb31-2ec3cf1b2fa5', 'HTTPStatusCode': 200, 'HTTPHeaders': {'date': 'Mon, 09 Jun 2025 20:46:01 GMT', 'content-type': 'application/json', 'content-length': '485', 'connection': 'keep-alive', 'x-amzn-requestid': '451a7c84-128e-4679-bb31-2ec3cf1b2fa5'}, 'RetryAttempts': 0}, 'stopReason': 'tool_use', 'metrics': {'latencyMs': [1381]}, 'model_name': 'us.amazon.nova-pro-v1:0'}, id='run--08597d30-67e1-4cf2-a98c-d1b29204b6df-0', tool_calls=[{'name': 'multiply', 'args': {'a': 2, 'b': 3}, 'id': 'tooluse_Y85AJAweT_-atNFyzFsFfA', 'type': 'tool_call'}], usage_metadata={'input_tokens': 556, 'output_tokens': 71, 'total_tokens': 627, 'input_token_details': {'cache_creation': 0, 'cache_read': 0}})]}),), interrupts=())"
      ]
     },
     "execution_count": 41,
     "metadata": {},
     "output_type": "execute_result"
    }
   ],
   "source": [
    "to_replay"
   ]
  },
  {
   "cell_type": "markdown",
   "id": "571e7894-6546-48ff-9c25-fa6d120391b3",
   "metadata": {},
   "source": [
    "Look at the state."
   ]
  },
  {
   "cell_type": "code",
   "execution_count": 42,
   "id": "6fe69428-f364-4330-bf5d-aa966c7f3b07",
   "metadata": {},
   "outputs": [
    {
     "data": {
      "text/plain": [
       "{'messages': [HumanMessage(content='Multiply 2 and 3', additional_kwargs={}, response_metadata={}, id='85d1782d-0ee4-49a4-ae01-29f50f1788ac')]}"
      ]
     },
     "execution_count": 42,
     "metadata": {},
     "output_type": "execute_result"
    }
   ],
   "source": [
    "to_replay.values"
   ]
  },
  {
   "cell_type": "markdown",
   "id": "ff2df545-cc80-4962-a34a-faac7af8eb3d",
   "metadata": {},
   "source": [
    "We can see the next node to call."
   ]
  },
  {
   "cell_type": "code",
   "execution_count": 43,
   "id": "d2f333f9-9b2b-46f6-ac3a-525f86b20f1b",
   "metadata": {},
   "outputs": [
    {
     "data": {
      "text/plain": [
       "('assistant',)"
      ]
     },
     "execution_count": 43,
     "metadata": {},
     "output_type": "execute_result"
    }
   ],
   "source": [
    "to_replay.next"
   ]
  },
  {
   "cell_type": "markdown",
   "id": "b8938c18-5c22-47df-b71e-40afa73c87af",
   "metadata": {},
   "source": [
    "We also get the config, which tells us the `checkpoint_id` as well as the `thread_id`."
   ]
  },
  {
   "cell_type": "code",
   "execution_count": 44,
   "id": "b1298786-afa5-4277-927e-708a8629231b",
   "metadata": {},
   "outputs": [
    {
     "data": {
      "text/plain": [
       "{'configurable': {'thread_id': '1',\n",
       "  'checkpoint_ns': '',\n",
       "  'checkpoint_id': '1f04572c-036e-6b6e-8000-3897a1c5ee4f'}}"
      ]
     },
     "execution_count": 44,
     "metadata": {},
     "output_type": "execute_result"
    }
   ],
   "source": [
    "to_replay.config"
   ]
  },
  {
   "cell_type": "markdown",
   "id": "1d93b5eb-f541-4f82-93b1-48f54bf5cf83",
   "metadata": {},
   "source": [
    "To replay from here, we simply pass the config back to the agent!\n",
    "\n",
    "The graph knows that this checkpoint has aleady been executed. \n",
    "\n",
    "It just re-plays from this checkpoint!"
   ]
  },
  {
   "cell_type": "code",
   "execution_count": 45,
   "id": "531b4cd1-54f6-44aa-9ffe-cf5403dad65d",
   "metadata": {},
   "outputs": [
    {
     "name": "stdout",
     "output_type": "stream",
     "text": [
      "================================\u001b[1m Human Message \u001b[0m=================================\n",
      "\n",
      "Multiply 2 and 3\n",
      "==================================\u001b[1m Ai Message \u001b[0m==================================\n",
      "\n",
      "[{'type': 'text', 'text': '<thinking> To solve the user\\'s request, I need to multiply the numbers 2 and 3. The tool that can perform this operation is \"multiply\". I will use this tool with the parameters a=2 and b=3. </thinking>\\n'}, {'type': 'tool_use', 'name': 'multiply', 'input': {'a': 2, 'b': 3}, 'id': 'tooluse_kABkqChJShyK6VZeoS0v1A'}]\n",
      "Tool Calls:\n",
      "  multiply (tooluse_kABkqChJShyK6VZeoS0v1A)\n",
      " Call ID: tooluse_kABkqChJShyK6VZeoS0v1A\n",
      "  Args:\n",
      "    a: 2\n",
      "    b: 3\n",
      "=================================\u001b[1m Tool Message \u001b[0m=================================\n",
      "Name: multiply\n",
      "\n",
      "6\n",
      "==================================\u001b[1m Ai Message \u001b[0m==================================\n",
      "\n",
      "The result of multiplying 2 and 3 is 6.\n"
     ]
    }
   ],
   "source": [
    "for event in graph.stream(None, to_replay.config, stream_mode=\"values\"):\n",
    "    event['messages'][-1].pretty_print()"
   ]
  },
  {
   "cell_type": "markdown",
   "id": "7d7a914e-63e6-4424-970f-15059ce9b4c3",
   "metadata": {},
   "source": [
    "Now, we can see our current state after the agent re-ran."
   ]
  },
  {
   "attachments": {},
   "cell_type": "markdown",
   "id": "5a5a1f03-19f2-4d22-ba54-1c065ff08e85",
   "metadata": {},
   "source": [
    "## Forking\n",
    "\n",
    "What if we want to run from that same step, but with a different input.\n",
    "\n",
    "This is forking.\n",
    "\n",
    "![fig3.jpg](https://cdn.prod.website-files.com/65b8cd72835ceeacd4449a53/66dbb038f89f2d847ee5c336_time-travel3.png)"
   ]
  },
  {
   "cell_type": "code",
   "execution_count": 46,
   "id": "cdeb5bf2-1566-4d8c-8ea5-65894e3a7038",
   "metadata": {},
   "outputs": [
    {
     "data": {
      "text/plain": [
       "[HumanMessage(content='Multiply 2 and 3', additional_kwargs={}, response_metadata={}, id='85d1782d-0ee4-49a4-ae01-29f50f1788ac')]"
      ]
     },
     "execution_count": 46,
     "metadata": {},
     "output_type": "execute_result"
    }
   ],
   "source": [
    "to_fork = all_states[-2]\n",
    "to_fork.values[\"messages\"]"
   ]
  },
  {
   "cell_type": "markdown",
   "id": "4a15f6a6-6eaa-48d6-92bb-864ea3a31b6a",
   "metadata": {},
   "source": [
    "Again, we have the config."
   ]
  },
  {
   "cell_type": "code",
   "execution_count": 47,
   "id": "d1621b27-ee51-4dc3-81c4-1d05317280db",
   "metadata": {},
   "outputs": [
    {
     "data": {
      "text/plain": [
       "{'configurable': {'thread_id': '1',\n",
       "  'checkpoint_ns': '',\n",
       "  'checkpoint_id': '1f04572c-036e-6b6e-8000-3897a1c5ee4f'}}"
      ]
     },
     "execution_count": 47,
     "metadata": {},
     "output_type": "execute_result"
    }
   ],
   "source": [
    "to_fork.config"
   ]
  },
  {
   "cell_type": "markdown",
   "id": "c2102195-0583-4dbe-ad2f-02fac7915585",
   "metadata": {},
   "source": [
    "Let's modify the state at this checkpoint.\n",
    "\n",
    "We can just run `update_state` with the `checkpoint_id` supplied. \n",
    "\n",
    "Remember how our reducer on `messages` works: \n",
    "\n",
    "* It will append, unless we supply a message ID.\n",
    "* We supply the message ID to overwrite the message, rather than appending to state!\n",
    "\n",
    "So, to overwrite the the message, we just supply the message ID, which we have `to_fork.values[\"messages\"].id`."
   ]
  },
  {
   "cell_type": "code",
   "execution_count": 48,
   "id": "0b4a918d-858a-41ac-a5d4-e99260e2d6ec",
   "metadata": {},
   "outputs": [],
   "source": [
    "fork_config = graph.update_state(\n",
    "    to_fork.config,\n",
    "    {\"messages\": [HumanMessage(content='Multiply 5 and 3', \n",
    "                               id=to_fork.values[\"messages\"][0].id)]},\n",
    ")"
   ]
  },
  {
   "cell_type": "code",
   "execution_count": 49,
   "id": "8ff4e9bb-8221-42d1-b7d0-b0cbd5dc374a",
   "metadata": {},
   "outputs": [
    {
     "data": {
      "text/plain": [
       "{'configurable': {'thread_id': '1',\n",
       "  'checkpoint_ns': '',\n",
       "  'checkpoint_id': '1f04573d-b228-6536-8001-67d991f8db06'}}"
      ]
     },
     "execution_count": 49,
     "metadata": {},
     "output_type": "execute_result"
    }
   ],
   "source": [
    "fork_config"
   ]
  },
  {
   "cell_type": "markdown",
   "id": "bebfe6fd-c94b-4291-a125-ec6170e35bc5",
   "metadata": {},
   "source": [
    "This creates a new, forked checkpoint.\n",
    " \n",
    "But, the metadata - e.g., where to go next - is perserved! \n",
    "\n",
    "We can see the current state of our agent has been updated with our fork."
   ]
  },
  {
   "cell_type": "code",
   "execution_count": 50,
   "id": "586ce86c-1257-45e9-ba30-6287932b9484",
   "metadata": {},
   "outputs": [
    {
     "data": {
      "text/plain": [
       "[HumanMessage(content='Multiply 5 and 3', additional_kwargs={}, response_metadata={}, id='85d1782d-0ee4-49a4-ae01-29f50f1788ac')]"
      ]
     },
     "execution_count": 50,
     "metadata": {},
     "output_type": "execute_result"
    }
   ],
   "source": [
    "all_states = [state for state in graph.get_state_history(thread) ]\n",
    "all_states[0].values[\"messages\"]"
   ]
  },
  {
   "cell_type": "code",
   "execution_count": 51,
   "id": "12e19798-25d8-49e8-8542-13d2b3bdf58e",
   "metadata": {},
   "outputs": [
    {
     "data": {
      "text/plain": [
       "StateSnapshot(values={'messages': [HumanMessage(content='Multiply 5 and 3', additional_kwargs={}, response_metadata={}, id='85d1782d-0ee4-49a4-ae01-29f50f1788ac')]}, next=('assistant',), config={'configurable': {'thread_id': '1', 'checkpoint_ns': '', 'checkpoint_id': '1f04573d-b228-6536-8001-67d991f8db06'}}, metadata={'source': 'update', 'writes': {'__start__': {'messages': [HumanMessage(content='Multiply 5 and 3', additional_kwargs={}, response_metadata={}, id='85d1782d-0ee4-49a4-ae01-29f50f1788ac')]}}, 'step': 1, 'parents': {}, 'thread_id': '1', 'checkpoint_ns': '', 'checkpoint_id': '1f04572c-036e-6b6e-8000-3897a1c5ee4f'}, created_at='2025-06-09T20:53:54.851334+00:00', parent_config={'configurable': {'thread_id': '1', 'checkpoint_ns': '', 'checkpoint_id': '1f04572c-036e-6b6e-8000-3897a1c5ee4f'}}, tasks=(PregelTask(id='5905122c-f8e4-aab0-80a9-bb53b83f4ac9', name='assistant', path=('__pregel_pull', 'assistant'), error=None, interrupts=(), state=None, result=None),), interrupts=())"
      ]
     },
     "execution_count": 51,
     "metadata": {},
     "output_type": "execute_result"
    }
   ],
   "source": [
    "graph.get_state({'configurable': {'thread_id': '1'}})"
   ]
  },
  {
   "cell_type": "markdown",
   "id": "78c641e2-b8e9-4461-b854-8725006a5eb6",
   "metadata": {},
   "source": [
    "Now, when we stream, the graph knows this checkpoint has never been executed.\n",
    "\n",
    "So, the graph runs, rather than simply re-playing."
   ]
  },
  {
   "cell_type": "code",
   "execution_count": 52,
   "id": "1c49f2a8-b325-45e4-b36c-17fab1b37cc0",
   "metadata": {},
   "outputs": [
    {
     "name": "stdout",
     "output_type": "stream",
     "text": [
      "================================\u001b[1m Human Message \u001b[0m=================================\n",
      "\n",
      "Multiply 5 and 3\n",
      "==================================\u001b[1m Ai Message \u001b[0m==================================\n",
      "\n",
      "[{'type': 'text', 'text': \"<thinking> To multiply 5 and 3, I need to use the 'multiply' tool with the parameters a=5 and b=3. </thinking>\\n\"}, {'type': 'tool_use', 'name': 'multiply', 'input': {'a': 5, 'b': 3}, 'id': 'tooluse_ZgW-t0qkQyWwqMvnjlmeEA'}]\n",
      "Tool Calls:\n",
      "  multiply (tooluse_ZgW-t0qkQyWwqMvnjlmeEA)\n",
      " Call ID: tooluse_ZgW-t0qkQyWwqMvnjlmeEA\n",
      "  Args:\n",
      "    a: 5\n",
      "    b: 3\n",
      "=================================\u001b[1m Tool Message \u001b[0m=================================\n",
      "Name: multiply\n",
      "\n",
      "15\n",
      "==================================\u001b[1m Ai Message \u001b[0m==================================\n",
      "\n",
      "The result of multiplying 5 and 3 is 15.\n"
     ]
    }
   ],
   "source": [
    "for event in graph.stream(None, fork_config, stream_mode=\"values\"):\n",
    "    event['messages'][-1].pretty_print()"
   ]
  },
  {
   "cell_type": "markdown",
   "id": "428d7f80-ee60-4147-b51f-ee3b0cf5cbba",
   "metadata": {},
   "source": [
    "Now, we can see the current state is the end of our agent run."
   ]
  },
  {
   "cell_type": "code",
   "execution_count": 53,
   "id": "132ef840-64c7-479c-ad34-3f177f4b2524",
   "metadata": {},
   "outputs": [
    {
     "data": {
      "text/plain": [
       "StateSnapshot(values={'messages': [HumanMessage(content='Multiply 5 and 3', additional_kwargs={}, response_metadata={}, id='85d1782d-0ee4-49a4-ae01-29f50f1788ac'), AIMessage(content=[{'type': 'text', 'text': \"<thinking> To multiply 5 and 3, I need to use the 'multiply' tool with the parameters a=5 and b=3. </thinking>\\n\"}, {'type': 'tool_use', 'name': 'multiply', 'input': {'a': 5, 'b': 3}, 'id': 'tooluse_ZgW-t0qkQyWwqMvnjlmeEA'}], additional_kwargs={}, response_metadata={'ResponseMetadata': {'RequestId': '9b9846d3-9287-4c29-81ac-67489faa0e04', 'HTTPStatusCode': 200, 'HTTPHeaders': {'date': 'Mon, 09 Jun 2025 20:54:11 GMT', 'content-type': 'application/json', 'content-length': '394', 'connection': 'keep-alive', 'x-amzn-requestid': '9b9846d3-9287-4c29-81ac-67489faa0e04'}, 'RetryAttempts': 0}, 'stopReason': 'tool_use', 'metrics': {'latencyMs': [990]}, 'model_name': 'us.amazon.nova-pro-v1:0'}, id='run--51540a82-9073-41e5-b825-af6951890387-0', tool_calls=[{'name': 'multiply', 'args': {'a': 5, 'b': 3}, 'id': 'tooluse_ZgW-t0qkQyWwqMvnjlmeEA', 'type': 'tool_call'}], usage_metadata={'input_tokens': 556, 'output_tokens': 53, 'total_tokens': 609, 'input_token_details': {'cache_creation': 0, 'cache_read': 0}}), ToolMessage(content='15', name='multiply', id='ac2b4cf3-8d8b-4cbf-80a2-ba6732815d00', tool_call_id='tooluse_ZgW-t0qkQyWwqMvnjlmeEA'), AIMessage(content='The result of multiplying 5 and 3 is 15.', additional_kwargs={}, response_metadata={'ResponseMetadata': {'RequestId': '9f2a51af-0ea1-457c-8877-614a63b5962d', 'HTTPStatusCode': 200, 'HTTPHeaders': {'date': 'Mon, 09 Jun 2025 20:54:11 GMT', 'content-type': 'application/json', 'content-length': '223', 'connection': 'keep-alive', 'x-amzn-requestid': '9f2a51af-0ea1-457c-8877-614a63b5962d'}, 'RetryAttempts': 0}, 'stopReason': 'end_turn', 'metrics': {'latencyMs': [488]}, 'model_name': 'us.amazon.nova-pro-v1:0'}, id='run--2d4e27b2-3ee1-4427-84c1-5c7c150444b3-0', usage_metadata={'input_tokens': 636, 'output_tokens': 14, 'total_tokens': 650, 'input_token_details': {'cache_creation': 0, 'cache_read': 0}})]}, next=(), config={'configurable': {'thread_id': '1', 'checkpoint_ns': '', 'checkpoint_id': '1f04573e-5237-67a2-8004-ca4e3d607c8e'}}, metadata={'source': 'loop', 'writes': {'assistant': {'messages': [AIMessage(content='The result of multiplying 5 and 3 is 15.', additional_kwargs={}, response_metadata={'ResponseMetadata': {'RequestId': '9f2a51af-0ea1-457c-8877-614a63b5962d', 'HTTPStatusCode': 200, 'HTTPHeaders': {'date': 'Mon, 09 Jun 2025 20:54:11 GMT', 'content-type': 'application/json', 'content-length': '223', 'connection': 'keep-alive', 'x-amzn-requestid': '9f2a51af-0ea1-457c-8877-614a63b5962d'}, 'RetryAttempts': 0}, 'stopReason': 'end_turn', 'metrics': {'latencyMs': [488]}, 'model_name': 'us.amazon.nova-pro-v1:0'}, id='run--2d4e27b2-3ee1-4427-84c1-5c7c150444b3-0', usage_metadata={'input_tokens': 636, 'output_tokens': 14, 'total_tokens': 650, 'input_token_details': {'cache_creation': 0, 'cache_read': 0}})]}}, 'step': 4, 'parents': {}, 'thread_id': '1'}, created_at='2025-06-09T20:54:11.634766+00:00', parent_config={'configurable': {'thread_id': '1', 'checkpoint_ns': '', 'checkpoint_id': '1f04573e-4c6e-64ec-8003-a2a8cc14c043'}}, tasks=(), interrupts=())"
      ]
     },
     "execution_count": 53,
     "metadata": {},
     "output_type": "execute_result"
    }
   ],
   "source": [
    "graph.get_state({'configurable': {'thread_id': '1'}})"
   ]
  },
  {
   "attachments": {},
   "cell_type": "markdown",
   "id": "2ceb5f31-97b0-466c-9b3b-ae4df7cd462a",
   "metadata": {},
   "source": [
    "### Time travel with LangGraph API\n",
    "\n",
    "**⚠️ DISCLAIMER**\n",
    "\n",
    "Since the filming of these videos, we've updated Studio so that it can be run locally and opened in your browser. This is now the preferred way to run Studio (rather than using the Desktop App as shown in the video). See documentation [here](https://langchain-ai.github.io/langgraph/concepts/langgraph_studio/#local-development-server) on the local development server and [here](https://langchain-ai.github.io/langgraph/how-tos/local-studio/#run-the-development-server). To start the local development server, run the following command in your terminal in the `/studio` directory in this module:\n",
    "\n",
    "```\n",
    "langgraph dev\n",
    "```\n",
    "\n",
    "You should see the following output:\n",
    "```\n",
    "- 🚀 API: http://127.0.0.1:2024\n",
    "- 🎨 Studio UI: https://smith.langchain.com/studio/?baseUrl=http://127.0.0.1:2024\n",
    "- 📚 API Docs: http://127.0.0.1:2024/docs\n",
    "```\n",
    "\n",
    "Open your browser and navigate to the Studio UI: `https://smith.langchain.com/studio/?baseUrl=http://127.0.0.1:2024`.\n",
    "\n",
    "We connect to it via the SDK and show how the LangGraph API [supports time travel](https://langchain-ai.github.io/langgraph/cloud/how-tos/human_in_the_loop_time_travel/#initial-invocation). "
   ]
  },
  {
   "cell_type": "code",
   "execution_count": null,
   "id": "891defdb-746c-48e4-8efa-bb5f138dc4bd",
   "metadata": {},
   "outputs": [],
   "source": [
    "if 'google.colab' in str(get_ipython()):\n",
    "    raise Exception(\"Unfortunately LangGraph Studio is currently not supported on Google Colab\")"
   ]
  },
  {
   "cell_type": "code",
   "execution_count": 54,
   "id": "a317925d-1788-4cfc-9c12-336b17b4d859",
   "metadata": {},
   "outputs": [],
   "source": [
    "from langgraph_sdk import get_client\n",
    "client = get_client(url=\"http://127.0.0.1:2024\")"
   ]
  },
  {
   "cell_type": "markdown",
   "id": "815d5e03-0ab8-4c7f-a1ee-f410b6aadc03",
   "metadata": {},
   "source": [
    "#### Re-playing \n",
    "\n",
    "Let's run our agent streaming `updates` to the state of the graph after each node is called."
   ]
  },
  {
   "cell_type": "code",
   "execution_count": 55,
   "id": "9d4d01da-7b64-4c92-96b7-29ec93332d0b",
   "metadata": {},
   "outputs": [
    {
     "name": "stdout",
     "output_type": "stream",
     "text": [
      "--------------------Assistant Node--------------------\n",
      "{'content': [{'type': 'text', 'text': \"<thinking> The user has requested to multiply two numbers, 2 and 3. I can use the 'multiply' tool to perform this operation. </thinking>\\n\"}, {'type': 'tool_use', 'name': 'multiply', 'input': {'a': 2, 'b': 3}, 'id': 'tooluse_0vFINpbwRlqFKy8aExclxA'}], 'additional_kwargs': {}, 'response_metadata': {'ResponseMetadata': {'RequestId': '3c0b6976-c3c6-4612-a812-775875e7b42d', 'HTTPStatusCode': 200, 'HTTPHeaders': {'date': 'Mon, 09 Jun 2025 20:54:34 GMT', 'content-type': 'application/json', 'content-length': '421', 'connection': 'keep-alive', 'x-amzn-requestid': '3c0b6976-c3c6-4612-a812-775875e7b42d'}, 'RetryAttempts': 0}, 'stopReason': 'tool_use', 'metrics': {'latencyMs': [1025]}, 'model_name': 'us.amazon.nova-pro-v1:0'}, 'type': 'ai', 'name': None, 'id': 'run--7c1de094-ee0f-4535-b492-14b1fa305344-0', 'example': False, 'tool_calls': [{'name': 'multiply', 'args': {'a': 2, 'b': 3}, 'id': 'tooluse_0vFINpbwRlqFKy8aExclxA', 'type': 'tool_call'}], 'invalid_tool_calls': [], 'usage_metadata': {'input_tokens': 559, 'output_tokens': 53, 'total_tokens': 612}}\n",
      "--------------------Tools Node--------------------\n",
      "{'content': '6', 'additional_kwargs': {}, 'response_metadata': {}, 'type': 'tool', 'name': 'multiply', 'id': 'ee85930c-6f8c-47bd-aee8-40e02260cccf', 'tool_call_id': 'tooluse_0vFINpbwRlqFKy8aExclxA', 'artifact': None, 'status': 'success'}\n",
      "--------------------Assistant Node--------------------\n",
      "{'content': 'The result of multiplying 2 and 3 is 6.', 'additional_kwargs': {}, 'response_metadata': {'ResponseMetadata': {'RequestId': '5c4b4067-7488-462e-ab07-9eae56f64802', 'HTTPStatusCode': 200, 'HTTPHeaders': {'date': 'Mon, 09 Jun 2025 20:54:34 GMT', 'content-type': 'application/json', 'content-length': '222', 'connection': 'keep-alive', 'x-amzn-requestid': '5c4b4067-7488-462e-ab07-9eae56f64802'}, 'RetryAttempts': 0}, 'stopReason': 'end_turn', 'metrics': {'latencyMs': [487]}, 'model_name': 'us.amazon.nova-pro-v1:0'}, 'type': 'ai', 'name': None, 'id': 'run--900523a5-b93e-4d3a-96de-d72f5017a41a-0', 'example': False, 'tool_calls': [], 'invalid_tool_calls': [], 'usage_metadata': {'input_tokens': 638, 'output_tokens': 13, 'total_tokens': 651}}\n"
     ]
    }
   ],
   "source": [
    "initial_input = {\"messages\": HumanMessage(content=\"Multiply 2 and 3\")}\n",
    "thread = await client.threads.create()\n",
    "async for chunk in client.runs.stream(\n",
    "    thread[\"thread_id\"],\n",
    "    assistant_id = \"agent\",\n",
    "    input=initial_input,\n",
    "    stream_mode=\"updates\",\n",
    "):\n",
    "    if chunk.data:\n",
    "        assisant_node = chunk.data.get('assistant', {}).get('messages', [])\n",
    "        tool_node = chunk.data.get('tools', {}).get('messages', [])\n",
    "        if assisant_node:\n",
    "            print(\"-\" * 20+\"Assistant Node\"+\"-\" * 20)\n",
    "            print(assisant_node[-1])\n",
    "        elif tool_node:\n",
    "            print(\"-\" * 20+\"Tools Node\"+\"-\" * 20)\n",
    "            print(tool_node[-1])"
   ]
  },
  {
   "cell_type": "markdown",
   "id": "8cc3bab2",
   "metadata": {},
   "source": [
    "Now, let's look at **replaying** from a specified checkpoint. \n",
    "\n",
    "We simply need to pass the `checkpoint_id`."
   ]
  },
  {
   "cell_type": "code",
   "execution_count": 56,
   "id": "d8ecc4fd",
   "metadata": {},
   "outputs": [
    {
     "data": {
      "text/plain": [
       "{'values': {'messages': [{'content': 'Multiply 2 and 3',\n",
       "    'additional_kwargs': {},\n",
       "    'response_metadata': {},\n",
       "    'type': 'human',\n",
       "    'name': None,\n",
       "    'id': '0db2bd07-51e8-470c-aaac-977afbf5de38',\n",
       "    'example': False}]},\n",
       " 'next': ['assistant'],\n",
       " 'tasks': [{'id': 'bb0edda8-e32a-0c09-9ba6-2d8bed0812b7',\n",
       "   'name': 'assistant',\n",
       "   'path': ['__pregel_pull', 'assistant'],\n",
       "   'error': None,\n",
       "   'interrupts': [],\n",
       "   'checkpoint': None,\n",
       "   'state': None,\n",
       "   'result': {'messages': [{'content': [{'type': 'text',\n",
       "        'text': \"<thinking> The user has requested to multiply two numbers, 2 and 3. I can use the 'multiply' tool to perform this operation. </thinking>\\n\"},\n",
       "       {'type': 'tool_use',\n",
       "        'name': 'multiply',\n",
       "        'input': {'a': 2, 'b': 3},\n",
       "        'id': 'tooluse_0vFINpbwRlqFKy8aExclxA'}],\n",
       "      'additional_kwargs': {},\n",
       "      'response_metadata': {'ResponseMetadata': {'RequestId': '3c0b6976-c3c6-4612-a812-775875e7b42d',\n",
       "        'HTTPStatusCode': 200,\n",
       "        'HTTPHeaders': {'date': 'Mon, 09 Jun 2025 20:54:34 GMT',\n",
       "         'content-type': 'application/json',\n",
       "         'content-length': '421',\n",
       "         'connection': 'keep-alive',\n",
       "         'x-amzn-requestid': '3c0b6976-c3c6-4612-a812-775875e7b42d'},\n",
       "        'RetryAttempts': 0},\n",
       "       'stopReason': 'tool_use',\n",
       "       'metrics': {'latencyMs': [1025]},\n",
       "       'model_name': 'us.amazon.nova-pro-v1:0'},\n",
       "      'type': 'ai',\n",
       "      'name': None,\n",
       "      'id': 'run--7c1de094-ee0f-4535-b492-14b1fa305344-0',\n",
       "      'example': False,\n",
       "      'tool_calls': [{'name': 'multiply',\n",
       "        'args': {'a': 2, 'b': 3},\n",
       "        'id': 'tooluse_0vFINpbwRlqFKy8aExclxA',\n",
       "        'type': 'tool_call'}],\n",
       "      'invalid_tool_calls': [],\n",
       "      'usage_metadata': {'input_tokens': 559,\n",
       "       'output_tokens': 53,\n",
       "       'total_tokens': 612}}]}}],\n",
       " 'metadata': {'user-agent': 'langgraph-sdk-py/0.1.70',\n",
       "  'langgraph_auth_user': None,\n",
       "  'langgraph_auth_user_id': '',\n",
       "  'langgraph_auth_permissions': [],\n",
       "  'graph_id': 'agent',\n",
       "  'assistant_id': 'fe096781-5601-53d2-b2f6-0d3403f7e9ca',\n",
       "  'user_id': '',\n",
       "  'created_by': 'system',\n",
       "  'run_attempt': 1,\n",
       "  'langgraph_version': '0.4.8',\n",
       "  'langgraph_plan': 'developer',\n",
       "  'langgraph_host': 'self-hosted',\n",
       "  'langgraph_api_url': 'http://127.0.0.1:2024',\n",
       "  'run_id': '1f04573f-11d6-60ae-88ab-eb23ab4462dd',\n",
       "  'thread_id': 'e347e6c5-de48-4fbc-ad2d-6061b85ff6da',\n",
       "  'source': 'loop',\n",
       "  'writes': None,\n",
       "  'step': 0,\n",
       "  'parents': {}},\n",
       " 'created_at': '2025-06-09T20:54:32.582864+00:00',\n",
       " 'checkpoint': {'checkpoint_id': '1f04573f-19fe-652e-8000-10d424d7d0da',\n",
       "  'thread_id': 'e347e6c5-de48-4fbc-ad2d-6061b85ff6da',\n",
       "  'checkpoint_ns': ''},\n",
       " 'parent_checkpoint': {'checkpoint_id': '1f04573f-19f8-696c-bfff-501ed67ab001',\n",
       "  'thread_id': 'e347e6c5-de48-4fbc-ad2d-6061b85ff6da',\n",
       "  'checkpoint_ns': ''},\n",
       " 'checkpoint_id': '1f04573f-19fe-652e-8000-10d424d7d0da',\n",
       " 'parent_checkpoint_id': '1f04573f-19f8-696c-bfff-501ed67ab001'}"
      ]
     },
     "execution_count": 56,
     "metadata": {},
     "output_type": "execute_result"
    }
   ],
   "source": [
    "states = await client.threads.get_history(thread['thread_id'])\n",
    "to_replay = states[-2]\n",
    "to_replay"
   ]
  },
  {
   "cell_type": "markdown",
   "id": "e33f865a",
   "metadata": {},
   "source": [
    "Let's stream with `stream_mode=\"values\"` to see the full state at every node as we replay. "
   ]
  },
  {
   "cell_type": "code",
   "execution_count": 57,
   "id": "325e8272",
   "metadata": {},
   "outputs": [
    {
     "name": "stdout",
     "output_type": "stream",
     "text": [
      "Receiving new event of type: metadata...\n",
      "{'run_id': '1f045740-be20-67e6-8cc6-0d7c30cf9a97', 'attempt': 1}\n",
      "\n",
      "\n",
      "\n",
      "Receiving new event of type: values...\n",
      "{'messages': [{'content': 'Multiply 2 and 3', 'additional_kwargs': {}, 'response_metadata': {}, 'type': 'human', 'name': None, 'id': '0db2bd07-51e8-470c-aaac-977afbf5de38', 'example': False}]}\n",
      "\n",
      "\n",
      "\n",
      "Receiving new event of type: values...\n",
      "{'messages': [{'content': 'Multiply 2 and 3', 'additional_kwargs': {}, 'response_metadata': {}, 'type': 'human', 'name': None, 'id': '0db2bd07-51e8-470c-aaac-977afbf5de38', 'example': False}, {'content': [{'type': 'text', 'text': \"<thinking> The user has requested to multiply two numbers, 2 and 3. I can use the 'multiply' tool to perform this operation. </thinking>\\n\"}, {'type': 'tool_use', 'name': 'multiply', 'input': {'a': 2, 'b': 3}, 'id': 'tooluse_V3hHPr_qRPukjycTBm2nCA'}], 'additional_kwargs': {}, 'response_metadata': {'ResponseMetadata': {'RequestId': '7c27a569-e85c-46ef-9b57-1bd86c23bbf0', 'HTTPStatusCode': 200, 'HTTPHeaders': {'date': 'Mon, 09 Jun 2025 20:55:18 GMT', 'content-type': 'application/json', 'content-length': '421', 'connection': 'keep-alive', 'x-amzn-requestid': '7c27a569-e85c-46ef-9b57-1bd86c23bbf0'}, 'RetryAttempts': 0}, 'stopReason': 'tool_use', 'metrics': {'latencyMs': [1113]}, 'model_name': 'us.amazon.nova-pro-v1:0'}, 'type': 'ai', 'name': None, 'id': 'run--7abbc3f2-1115-42f1-9460-500c2efbdc8e-0', 'example': False, 'tool_calls': [{'name': 'multiply', 'args': {'a': 2, 'b': 3}, 'id': 'tooluse_V3hHPr_qRPukjycTBm2nCA', 'type': 'tool_call'}], 'invalid_tool_calls': [], 'usage_metadata': {'input_tokens': 559, 'output_tokens': 53, 'total_tokens': 612}}]}\n",
      "\n",
      "\n",
      "\n",
      "Receiving new event of type: values...\n",
      "{'messages': [{'content': 'Multiply 2 and 3', 'additional_kwargs': {}, 'response_metadata': {}, 'type': 'human', 'name': None, 'id': '0db2bd07-51e8-470c-aaac-977afbf5de38', 'example': False}, {'content': [{'type': 'text', 'text': \"<thinking> The user has requested to multiply two numbers, 2 and 3. I can use the 'multiply' tool to perform this operation. </thinking>\\n\"}, {'type': 'tool_use', 'name': 'multiply', 'input': {'a': 2, 'b': 3}, 'id': 'tooluse_V3hHPr_qRPukjycTBm2nCA'}], 'additional_kwargs': {}, 'response_metadata': {'ResponseMetadata': {'RequestId': '7c27a569-e85c-46ef-9b57-1bd86c23bbf0', 'HTTPStatusCode': 200, 'HTTPHeaders': {'date': 'Mon, 09 Jun 2025 20:55:18 GMT', 'content-type': 'application/json', 'content-length': '421', 'connection': 'keep-alive', 'x-amzn-requestid': '7c27a569-e85c-46ef-9b57-1bd86c23bbf0'}, 'RetryAttempts': 0}, 'stopReason': 'tool_use', 'metrics': {'latencyMs': [1113]}, 'model_name': 'us.amazon.nova-pro-v1:0'}, 'type': 'ai', 'name': None, 'id': 'run--7abbc3f2-1115-42f1-9460-500c2efbdc8e-0', 'example': False, 'tool_calls': [{'name': 'multiply', 'args': {'a': 2, 'b': 3}, 'id': 'tooluse_V3hHPr_qRPukjycTBm2nCA', 'type': 'tool_call'}], 'invalid_tool_calls': [], 'usage_metadata': {'input_tokens': 559, 'output_tokens': 53, 'total_tokens': 612}}, {'content': '6', 'additional_kwargs': {}, 'response_metadata': {}, 'type': 'tool', 'name': 'multiply', 'id': '555e4aa9-c527-4f3e-9232-cfe02809e025', 'tool_call_id': 'tooluse_V3hHPr_qRPukjycTBm2nCA', 'artifact': None, 'status': 'success'}]}\n",
      "\n",
      "\n",
      "\n",
      "Receiving new event of type: values...\n",
      "{'messages': [{'content': 'Multiply 2 and 3', 'additional_kwargs': {}, 'response_metadata': {}, 'type': 'human', 'name': None, 'id': '0db2bd07-51e8-470c-aaac-977afbf5de38', 'example': False}, {'content': [{'type': 'text', 'text': \"<thinking> The user has requested to multiply two numbers, 2 and 3. I can use the 'multiply' tool to perform this operation. </thinking>\\n\"}, {'type': 'tool_use', 'name': 'multiply', 'input': {'a': 2, 'b': 3}, 'id': 'tooluse_V3hHPr_qRPukjycTBm2nCA'}], 'additional_kwargs': {}, 'response_metadata': {'ResponseMetadata': {'RequestId': '7c27a569-e85c-46ef-9b57-1bd86c23bbf0', 'HTTPStatusCode': 200, 'HTTPHeaders': {'date': 'Mon, 09 Jun 2025 20:55:18 GMT', 'content-type': 'application/json', 'content-length': '421', 'connection': 'keep-alive', 'x-amzn-requestid': '7c27a569-e85c-46ef-9b57-1bd86c23bbf0'}, 'RetryAttempts': 0}, 'stopReason': 'tool_use', 'metrics': {'latencyMs': [1113]}, 'model_name': 'us.amazon.nova-pro-v1:0'}, 'type': 'ai', 'name': None, 'id': 'run--7abbc3f2-1115-42f1-9460-500c2efbdc8e-0', 'example': False, 'tool_calls': [{'name': 'multiply', 'args': {'a': 2, 'b': 3}, 'id': 'tooluse_V3hHPr_qRPukjycTBm2nCA', 'type': 'tool_call'}], 'invalid_tool_calls': [], 'usage_metadata': {'input_tokens': 559, 'output_tokens': 53, 'total_tokens': 612}}, {'content': '6', 'additional_kwargs': {}, 'response_metadata': {}, 'type': 'tool', 'name': 'multiply', 'id': '555e4aa9-c527-4f3e-9232-cfe02809e025', 'tool_call_id': 'tooluse_V3hHPr_qRPukjycTBm2nCA', 'artifact': None, 'status': 'success'}, {'content': 'The result of multiplying 2 and 3 is 6.', 'additional_kwargs': {}, 'response_metadata': {'ResponseMetadata': {'RequestId': '8976bae1-8b3c-4836-9d41-7f82a7e747c3', 'HTTPStatusCode': 200, 'HTTPHeaders': {'date': 'Mon, 09 Jun 2025 20:55:19 GMT', 'content-type': 'application/json', 'content-length': '222', 'connection': 'keep-alive', 'x-amzn-requestid': '8976bae1-8b3c-4836-9d41-7f82a7e747c3'}, 'RetryAttempts': 0}, 'stopReason': 'end_turn', 'metrics': {'latencyMs': [472]}, 'model_name': 'us.amazon.nova-pro-v1:0'}, 'type': 'ai', 'name': None, 'id': 'run--83c193d2-98bb-45d3-9d99-55fce71e9777-0', 'example': False, 'tool_calls': [], 'invalid_tool_calls': [], 'usage_metadata': {'input_tokens': 638, 'output_tokens': 13, 'total_tokens': 651}}]}\n",
      "\n",
      "\n",
      "\n"
     ]
    }
   ],
   "source": [
    "async for chunk in client.runs.stream(\n",
    "    thread[\"thread_id\"],\n",
    "    assistant_id=\"agent\",\n",
    "    input=None,\n",
    "    stream_mode=\"values\",\n",
    "    checkpoint_id=to_replay['checkpoint_id']\n",
    "):      \n",
    "    print(f\"Receiving new event of type: {chunk.event}...\")\n",
    "    print(chunk.data)\n",
    "    print(\"\\n\\n\")"
   ]
  },
  {
   "cell_type": "markdown",
   "id": "14c153b3",
   "metadata": {},
   "source": [
    "We can all view this as streaming only `updates` to state made by the nodes that we reply."
   ]
  },
  {
   "cell_type": "code",
   "execution_count": 58,
   "id": "9e608e93",
   "metadata": {},
   "outputs": [
    {
     "name": "stdout",
     "output_type": "stream",
     "text": [
      "--------------------Assistant Node--------------------\n",
      "{'content': [{'type': 'text', 'text': \"<thinking> The user has requested to multiply two numbers, 2 and 3. I can use the 'multiply' tool to perform this operation. </thinking>\\n\"}, {'type': 'tool_use', 'name': 'multiply', 'input': {'a': 2, 'b': 3}, 'id': 'tooluse_RDqXmk20QySDvcbMh5WiRg'}], 'additional_kwargs': {}, 'response_metadata': {'ResponseMetadata': {'RequestId': '6304a7bd-501d-4ac0-b609-34482cd561f6', 'HTTPStatusCode': 200, 'HTTPHeaders': {'date': 'Mon, 09 Jun 2025 20:55:23 GMT', 'content-type': 'application/json', 'content-length': '421', 'connection': 'keep-alive', 'x-amzn-requestid': '6304a7bd-501d-4ac0-b609-34482cd561f6'}, 'RetryAttempts': 0}, 'stopReason': 'tool_use', 'metrics': {'latencyMs': [1117]}, 'model_name': 'us.amazon.nova-pro-v1:0'}, 'type': 'ai', 'name': None, 'id': 'run--3004eb29-aa76-4572-91ab-36fb27697246-0', 'example': False, 'tool_calls': [{'name': 'multiply', 'args': {'a': 2, 'b': 3}, 'id': 'tooluse_RDqXmk20QySDvcbMh5WiRg', 'type': 'tool_call'}], 'invalid_tool_calls': [], 'usage_metadata': {'input_tokens': 559, 'output_tokens': 53, 'total_tokens': 612}}\n",
      "--------------------Tools Node--------------------\n",
      "{'content': '6', 'additional_kwargs': {}, 'response_metadata': {}, 'type': 'tool', 'name': 'multiply', 'id': 'df0774fe-a847-4d83-bc5a-2a645f7cfdd5', 'tool_call_id': 'tooluse_RDqXmk20QySDvcbMh5WiRg', 'artifact': None, 'status': 'success'}\n",
      "--------------------Assistant Node--------------------\n",
      "{'content': 'The result of multiplying 2 and 3 is 6.', 'additional_kwargs': {}, 'response_metadata': {'ResponseMetadata': {'RequestId': '34d536ab-9e3b-4456-80cb-3f57af89c78e', 'HTTPStatusCode': 200, 'HTTPHeaders': {'date': 'Mon, 09 Jun 2025 20:55:23 GMT', 'content-type': 'application/json', 'content-length': '222', 'connection': 'keep-alive', 'x-amzn-requestid': '34d536ab-9e3b-4456-80cb-3f57af89c78e'}, 'RetryAttempts': 0}, 'stopReason': 'end_turn', 'metrics': {'latencyMs': [464]}, 'model_name': 'us.amazon.nova-pro-v1:0'}, 'type': 'ai', 'name': None, 'id': 'run--712971c1-9828-4534-8f4d-f8e5439244f0-0', 'example': False, 'tool_calls': [], 'invalid_tool_calls': [], 'usage_metadata': {'input_tokens': 638, 'output_tokens': 13, 'total_tokens': 651}}\n"
     ]
    }
   ],
   "source": [
    "async for chunk in client.runs.stream(\n",
    "    thread[\"thread_id\"],\n",
    "    assistant_id=\"agent\",\n",
    "    input=None,\n",
    "    stream_mode=\"updates\",\n",
    "    checkpoint_id=to_replay['checkpoint_id']\n",
    "):\n",
    "    if chunk.data:\n",
    "        assisant_node = chunk.data.get('assistant', {}).get('messages', [])\n",
    "        tool_node = chunk.data.get('tools', {}).get('messages', [])\n",
    "        if assisant_node:\n",
    "            print(\"-\" * 20+\"Assistant Node\"+\"-\" * 20)\n",
    "            print(assisant_node[-1])\n",
    "        elif tool_node:\n",
    "            print(\"-\" * 20+\"Tools Node\"+\"-\" * 20)\n",
    "            print(tool_node[-1])"
   ]
  },
  {
   "cell_type": "markdown",
   "id": "8e66e0e8",
   "metadata": {},
   "source": [
    "#### Forking\n",
    "\n",
    "Now, let's look at forking.\n",
    "\n",
    "Let's get the same step as we worked with above, the human input.\n",
    "\n",
    "Let's create a new thread with our agent."
   ]
  },
  {
   "cell_type": "code",
   "execution_count": 59,
   "id": "01af5ed4",
   "metadata": {},
   "outputs": [
    {
     "name": "stdout",
     "output_type": "stream",
     "text": [
      "--------------------Assistant Node--------------------\n",
      "{'content': [{'type': 'text', 'text': \"<thinking> The user has requested to multiply two numbers, 2 and 3. I can use the 'multiply' tool to perform this operation. </thinking>\\n\"}, {'type': 'tool_use', 'name': 'multiply', 'input': {'a': 2, 'b': 3}, 'id': 'tooluse_i5w-Zfi3RsCWHxxP8fjmQA'}], 'additional_kwargs': {}, 'response_metadata': {'ResponseMetadata': {'RequestId': '81fcdfc0-3365-4cab-9246-907b19db1640', 'HTTPStatusCode': 200, 'HTTPHeaders': {'date': 'Mon, 09 Jun 2025 20:55:33 GMT', 'content-type': 'application/json', 'content-length': '421', 'connection': 'keep-alive', 'x-amzn-requestid': '81fcdfc0-3365-4cab-9246-907b19db1640'}, 'RetryAttempts': 3}, 'stopReason': 'tool_use', 'metrics': {'latencyMs': [1128]}, 'model_name': 'us.amazon.nova-pro-v1:0'}, 'type': 'ai', 'name': None, 'id': 'run--f180fa93-9f14-4e9c-983f-2ea96c8cfadc-0', 'example': False, 'tool_calls': [{'name': 'multiply', 'args': {'a': 2, 'b': 3}, 'id': 'tooluse_i5w-Zfi3RsCWHxxP8fjmQA', 'type': 'tool_call'}], 'invalid_tool_calls': [], 'usage_metadata': {'input_tokens': 559, 'output_tokens': 53, 'total_tokens': 612}}\n",
      "--------------------Tools Node--------------------\n",
      "{'content': '6', 'additional_kwargs': {}, 'response_metadata': {}, 'type': 'tool', 'name': 'multiply', 'id': '30799cd6-e5d8-475c-bcc4-42f5d3240131', 'tool_call_id': 'tooluse_i5w-Zfi3RsCWHxxP8fjmQA', 'artifact': None, 'status': 'success'}\n"
     ]
    }
   ],
   "source": [
    "initial_input = {\"messages\": HumanMessage(content=\"Multiply 2 and 3\")}\n",
    "thread = await client.threads.create()\n",
    "async for chunk in client.runs.stream(\n",
    "    thread[\"thread_id\"],\n",
    "    assistant_id=\"agent\",\n",
    "    input=initial_input,\n",
    "    stream_mode=\"updates\",\n",
    "):\n",
    "    if chunk.data:\n",
    "        assisant_node = chunk.data.get('assistant', {}).get('messages', [])\n",
    "        tool_node = chunk.data.get('tools', {}).get('messages', [])\n",
    "        if assisant_node:\n",
    "            print(\"-\" * 20+\"Assistant Node\"+\"-\" * 20)\n",
    "            print(assisant_node[-1])\n",
    "        elif tool_node:\n",
    "            print(\"-\" * 20+\"Tools Node\"+\"-\" * 20)\n",
    "            print(tool_node[-1])"
   ]
  },
  {
   "cell_type": "code",
   "execution_count": 60,
   "id": "3dbc8795-c3f5-4559-a00e-dc410c0a927f",
   "metadata": {},
   "outputs": [
    {
     "data": {
      "text/plain": [
       "{'messages': [{'content': 'Multiply 2 and 3',\n",
       "   'additional_kwargs': {},\n",
       "   'response_metadata': {},\n",
       "   'type': 'human',\n",
       "   'name': None,\n",
       "   'id': '35f1596a-9321-4659-9374-b1991af85469',\n",
       "   'example': False}]}"
      ]
     },
     "execution_count": 60,
     "metadata": {},
     "output_type": "execute_result"
    }
   ],
   "source": [
    "states = await client.threads.get_history(thread['thread_id'])\n",
    "to_fork = states[-2]\n",
    "to_fork['values']"
   ]
  },
  {
   "cell_type": "code",
   "execution_count": 61,
   "id": "11e6cde1-0388-43ea-b994-1c4e9ca1199b",
   "metadata": {},
   "outputs": [
    {
     "data": {
      "text/plain": [
       "'35f1596a-9321-4659-9374-b1991af85469'"
      ]
     },
     "execution_count": 61,
     "metadata": {},
     "output_type": "execute_result"
    }
   ],
   "source": [
    "to_fork['values']['messages'][0]['id']"
   ]
  },
  {
   "cell_type": "code",
   "execution_count": 62,
   "id": "0c1e2300-c8b2-4994-a96d-1be19c04b6a8",
   "metadata": {},
   "outputs": [
    {
     "data": {
      "text/plain": [
       "['assistant']"
      ]
     },
     "execution_count": 62,
     "metadata": {},
     "output_type": "execute_result"
    }
   ],
   "source": [
    "to_fork['next']"
   ]
  },
  {
   "cell_type": "code",
   "execution_count": 63,
   "id": "9d31d5aa-524f-42f4-ba7e-713a029610d6",
   "metadata": {},
   "outputs": [
    {
     "data": {
      "text/plain": [
       "'1f045741-368c-6d2e-8000-03e920b95e4b'"
      ]
     },
     "execution_count": 63,
     "metadata": {},
     "output_type": "execute_result"
    }
   ],
   "source": [
    "to_fork['checkpoint_id']"
   ]
  },
  {
   "cell_type": "markdown",
   "id": "8f11e1d9-9fe7-4243-a06f-9b07e38a12ad",
   "metadata": {},
   "source": [
    "Let's edit the state.\n",
    "\n",
    "Remember how our reducer on `messages` works: \n",
    "\n",
    "* It will append, unless we supply a message ID.\n",
    "* We supply the message ID to overwrite the message, rather than appending to state!"
   ]
  },
  {
   "cell_type": "code",
   "execution_count": 64,
   "id": "0198f1b8-2f57-4c6e-ac6a-c6fb80cce0bd",
   "metadata": {},
   "outputs": [],
   "source": [
    "forked_input = {\"messages\": HumanMessage(content=\"Multiply 3 and 3\",\n",
    "                                         id=to_fork['values']['messages'][0]['id'])}\n",
    "\n",
    "forked_config = await client.threads.update_state(\n",
    "    thread[\"thread_id\"],\n",
    "    forked_input,\n",
    "    checkpoint_id=to_fork['checkpoint_id']\n",
    ")"
   ]
  },
  {
   "cell_type": "code",
   "execution_count": 65,
   "id": "1dcd5b8e-6bb1-4967-84cf-4af710b8bf46",
   "metadata": {},
   "outputs": [
    {
     "data": {
      "text/plain": [
       "{'checkpoint': {'thread_id': 'e3d0b178-b5a3-40ec-b930-eab954bf713e',\n",
       "  'checkpoint_ns': '',\n",
       "  'checkpoint_id': '1f045741-f975-6214-8001-b4910a6b07b9'},\n",
       " 'configurable': {'thread_id': 'e3d0b178-b5a3-40ec-b930-eab954bf713e',\n",
       "  'checkpoint_ns': '',\n",
       "  'checkpoint_id': '1f045741-f975-6214-8001-b4910a6b07b9'},\n",
       " 'checkpoint_id': '1f045741-f975-6214-8001-b4910a6b07b9'}"
      ]
     },
     "execution_count": 65,
     "metadata": {},
     "output_type": "execute_result"
    }
   ],
   "source": [
    "forked_config"
   ]
  },
  {
   "cell_type": "code",
   "execution_count": 66,
   "id": "015ac68a-5cc1-4c42-90a2-5b2b4865a153",
   "metadata": {},
   "outputs": [
    {
     "data": {
      "text/plain": [
       "{'values': {'messages': [{'content': 'Multiply 3 and 3',\n",
       "    'additional_kwargs': {},\n",
       "    'response_metadata': {},\n",
       "    'type': 'human',\n",
       "    'name': None,\n",
       "    'id': '35f1596a-9321-4659-9374-b1991af85469',\n",
       "    'example': False}]},\n",
       " 'next': ['assistant'],\n",
       " 'tasks': [{'id': 'e1a760a1-c0bf-7171-67c0-b7debfeafd15',\n",
       "   'name': 'assistant',\n",
       "   'path': ['__pregel_pull', 'assistant'],\n",
       "   'error': None,\n",
       "   'interrupts': [],\n",
       "   'checkpoint': None,\n",
       "   'state': None,\n",
       "   'result': None}],\n",
       " 'metadata': {'graph_id': 'agent',\n",
       "  'thread_id': 'e3d0b178-b5a3-40ec-b930-eab954bf713e',\n",
       "  'checkpoint_id': '1f045741-368c-6d2e-8000-03e920b95e4b',\n",
       "  'checkpoint_ns': '',\n",
       "  'user-agent': 'langgraph-sdk-py/0.1.70',\n",
       "  'langgraph_auth_user': None,\n",
       "  'langgraph_auth_user_id': '',\n",
       "  'langgraph_auth_permissions': [],\n",
       "  'assistant_id': 'fe096781-5601-53d2-b2f6-0d3403f7e9ca',\n",
       "  'user_id': '',\n",
       "  'created_by': 'system',\n",
       "  'run_attempt': 1,\n",
       "  'langgraph_version': '0.4.8',\n",
       "  'langgraph_plan': 'developer',\n",
       "  'langgraph_host': 'self-hosted',\n",
       "  'langgraph_api_url': 'http://127.0.0.1:2024',\n",
       "  'run_id': '1f045741-2e98-6866-b0ff-96834f4e1bc4',\n",
       "  'source': 'update',\n",
       "  'writes': {'__start__': {'messages': {'content': 'Multiply 3 and 3',\n",
       "     'additional_kwargs': {},\n",
       "     'response_metadata': {},\n",
       "     'type': 'human',\n",
       "     'name': None,\n",
       "     'id': '35f1596a-9321-4659-9374-b1991af85469',\n",
       "     'example': False}}},\n",
       "  'step': 1,\n",
       "  'parents': {}},\n",
       " 'created_at': '2025-06-09T20:55:49.701722+00:00',\n",
       " 'checkpoint': {'checkpoint_id': '1f045741-f975-6214-8001-b4910a6b07b9',\n",
       "  'thread_id': 'e3d0b178-b5a3-40ec-b930-eab954bf713e',\n",
       "  'checkpoint_ns': ''},\n",
       " 'parent_checkpoint': {'checkpoint_id': '1f045741-368c-6d2e-8000-03e920b95e4b',\n",
       "  'thread_id': 'e3d0b178-b5a3-40ec-b930-eab954bf713e',\n",
       "  'checkpoint_ns': ''},\n",
       " 'checkpoint_id': '1f045741-f975-6214-8001-b4910a6b07b9',\n",
       " 'parent_checkpoint_id': '1f045741-368c-6d2e-8000-03e920b95e4b'}"
      ]
     },
     "execution_count": 66,
     "metadata": {},
     "output_type": "execute_result"
    }
   ],
   "source": [
    "states = await client.threads.get_history(thread['thread_id'])\n",
    "states[0]"
   ]
  },
  {
   "cell_type": "markdown",
   "id": "3de80029-b987-49c5-890d-6cd70cbc8de7",
   "metadata": {},
   "source": [
    "To rerun, we pass in the `checkpoint_id`."
   ]
  },
  {
   "cell_type": "code",
   "execution_count": 67,
   "id": "da005240-d3f0-4c89-9aca-dfcb5d410ceb",
   "metadata": {},
   "outputs": [
    {
     "name": "stdout",
     "output_type": "stream",
     "text": [
      "--------------------Assistant Node--------------------\n",
      "{'content': [{'type': 'text', 'text': \"<thinking> The user has requested to multiply two numbers, 3 and 3. I can use the 'multiply' tool to perform this operation. </thinking>\\n\"}, {'type': 'tool_use', 'name': 'multiply', 'input': {'a': 3, 'b': 3}, 'id': 'tooluse__EaAYOJpTm6HOfb_MXXXXA'}], 'additional_kwargs': {}, 'response_metadata': {'ResponseMetadata': {'RequestId': '6c04b2ab-e4a0-44a7-82e5-4f7225872b3d', 'HTTPStatusCode': 200, 'HTTPHeaders': {'date': 'Mon, 09 Jun 2025 20:56:00 GMT', 'content-type': 'application/json', 'content-length': '420', 'connection': 'keep-alive', 'x-amzn-requestid': '6c04b2ab-e4a0-44a7-82e5-4f7225872b3d'}, 'RetryAttempts': 0}, 'stopReason': 'tool_use', 'metrics': {'latencyMs': [993]}, 'model_name': 'us.amazon.nova-pro-v1:0'}, 'type': 'ai', 'name': None, 'id': 'run--ca0a2ff2-6fc1-403d-99ec-e65984b4cd05-0', 'example': False, 'tool_calls': [{'name': 'multiply', 'args': {'a': 3, 'b': 3}, 'id': 'tooluse__EaAYOJpTm6HOfb_MXXXXA', 'type': 'tool_call'}], 'invalid_tool_calls': [], 'usage_metadata': {'input_tokens': 559, 'output_tokens': 53, 'total_tokens': 612}}\n",
      "--------------------Tools Node--------------------\n",
      "{'content': '9', 'additional_kwargs': {}, 'response_metadata': {}, 'type': 'tool', 'name': 'multiply', 'id': 'cacbbc36-8c6f-4de4-8ab4-28101cbcc39c', 'tool_call_id': 'tooluse__EaAYOJpTm6HOfb_MXXXXA', 'artifact': None, 'status': 'success'}\n",
      "--------------------Assistant Node--------------------\n",
      "{'content': 'The result of multiplying 3 and 3 is 9.', 'additional_kwargs': {}, 'response_metadata': {'ResponseMetadata': {'RequestId': '2fc1e4fd-7dc5-43aa-ad0e-2bbf8abf73d9', 'HTTPStatusCode': 200, 'HTTPHeaders': {'date': 'Mon, 09 Jun 2025 20:56:02 GMT', 'content-type': 'application/json', 'content-length': '222', 'connection': 'keep-alive', 'x-amzn-requestid': '2fc1e4fd-7dc5-43aa-ad0e-2bbf8abf73d9'}, 'RetryAttempts': 2}, 'stopReason': 'end_turn', 'metrics': {'latencyMs': [519]}, 'model_name': 'us.amazon.nova-pro-v1:0'}, 'type': 'ai', 'name': None, 'id': 'run--83fcde20-2871-48ae-acbf-decc8743bf8d-0', 'example': False, 'tool_calls': [], 'invalid_tool_calls': [], 'usage_metadata': {'input_tokens': 638, 'output_tokens': 13, 'total_tokens': 651}}\n"
     ]
    }
   ],
   "source": [
    "async for chunk in client.runs.stream(\n",
    "    thread[\"thread_id\"],\n",
    "    assistant_id=\"agent\",\n",
    "    input=None,\n",
    "    stream_mode=\"updates\",\n",
    "    checkpoint_id=forked_config['checkpoint_id']\n",
    "):\n",
    "    if chunk.data:\n",
    "        assisant_node = chunk.data.get('assistant', {}).get('messages', [])\n",
    "        tool_node = chunk.data.get('tools', {}).get('messages', [])\n",
    "        if assisant_node:\n",
    "            print(\"-\" * 20+\"Assistant Node\"+\"-\" * 20)\n",
    "            print(assisant_node[-1])\n",
    "        elif tool_node:\n",
    "            print(\"-\" * 20+\"Tools Node\"+\"-\" * 20)\n",
    "            print(tool_node[-1])"
   ]
  },
  {
   "cell_type": "markdown",
   "id": "36956571-a2b8-4f1b-8e30-51f02f155a6f",
   "metadata": {},
   "source": [
    "### LangGraph Studio\n",
    "\n",
    "Let's look at forking in the Studio UI with our `agent`, which uses `module-1/studio/agent.py` set in `module-1/studio/langgraph.json`."
   ]
  }
 ],
 "metadata": {
  "kernelspec": {
   "display_name": "Python (lc-academy-env)",
   "language": "python",
   "name": "lc-academy-env"
  },
  "language_info": {
   "codemirror_mode": {
    "name": "ipython",
    "version": 3
   },
   "file_extension": ".py",
   "mimetype": "text/x-python",
   "name": "python",
   "nbconvert_exporter": "python",
   "pygments_lexer": "ipython3",
   "version": "3.11.9"
  }
 },
 "nbformat": 4,
 "nbformat_minor": 5
}
